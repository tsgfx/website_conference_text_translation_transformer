{
 "cells": [
  {
   "cell_type": "code",
   "id": "initial_id",
   "metadata": {
    "collapsed": true,
    "id": "initial_id",
    "executionInfo": {
     "status": "ok",
     "timestamp": 1741005625510,
     "user_tz": -480,
     "elapsed": 2,
     "user": {
      "displayName": "Seagal",
      "userId": "11790859596784159614"
     }
    },
    "ExecuteTime": {
     "end_time": "2025-04-10T18:32:23.653448Z",
     "start_time": "2025-04-10T18:32:19.926743Z"
    }
   },
   "source": [
    "import matplotlib as mpl\n",
    "import matplotlib.pyplot as plt\n",
    "# 让图形在 Jupyter Notebook 中内嵌显示\n",
    "%matplotlib inline\n",
    "import numpy as np\n",
    "import sklearn\n",
    "import pandas as pd\n",
    "import os\n",
    "import random\n",
    "import sys\n",
    "import time\n",
    "from tqdm.auto import tqdm\n",
    "import torch\n",
    "import torch.nn as nn\n",
    "import torch.nn.functional as F"
   ],
   "outputs": [],
   "execution_count": 1
  },
  {
   "cell_type": "code",
   "id": "7ea0c290f8099f6a",
   "metadata": {
    "colab": {
     "base_uri": "https://localhost:8080/"
    },
    "executionInfo": {
     "elapsed": 9,
     "status": "ok",
     "timestamp": 1741005625520,
     "user": {
      "displayName": "Seagal",
      "userId": "11790859596784159614"
     },
     "user_tz": -480
    },
    "id": "7ea0c290f8099f6a",
    "outputId": "b820a8d2-e877-49d0-f7c4-6078f27aad89",
    "ExecuteTime": {
     "end_time": "2025-04-10T18:32:23.689959Z",
     "start_time": "2025-04-10T18:32:23.654461Z"
    }
   },
   "source": [
    "# 打印当前 Python 版本信息\n",
    "print(sys.version_info)\n",
    "\n",
    "# 打印使用库的版本信息\n",
    "for module in mpl, np, pd, sklearn, torch :\n",
    "    print(module.__name__, module.__version__)\n",
    "\n",
    "# 设置 PyTorch 计算设备\n",
    "device = torch.device(\"cuda:0\") if torch.cuda.is_available() else torch.device(\"cpu\")\n",
    "print(device)\n",
    "\n",
    "# 设置随机种子，以保证实验的可复现性\n",
    "seed = 42\n",
    "torch.manual_seed(seed)\n",
    "torch.cuda.manual_seed_all(seed)\n",
    "np.random.seed(seed)"
   ],
   "outputs": [
    {
     "name": "stdout",
     "output_type": "stream",
     "text": [
      "sys.version_info(major=3, minor=12, micro=3, releaselevel='final', serial=0)\n",
      "matplotlib 3.10.0\n",
      "numpy 2.0.2\n",
      "pandas 2.2.3\n",
      "sklearn 1.6.0\n",
      "torch 2.5.1+cu118\n",
      "cuda:0\n"
     ]
    }
   ],
   "execution_count": 2
  },
  {
   "cell_type": "markdown",
   "id": "b934ba074a83015e",
   "metadata": {
    "id": "b934ba074a83015e"
   },
   "source": [
    "## 数据预处理"
   ]
  },
  {
   "cell_type": "markdown",
   "id": "ff7e9f083c198776",
   "metadata": {
    "id": "ff7e9f083c198776"
   },
   "source": [
    "### 截取数据集"
   ]
  },
  {
   "cell_type": "code",
   "id": "160d83a5a340bc85",
   "metadata": {
    "id": "160d83a5a340bc85",
    "executionInfo": {
     "status": "ok",
     "timestamp": 1741005625546,
     "user_tz": -480,
     "elapsed": 25,
     "user": {
      "displayName": "Seagal",
      "userId": "11790859596784159614"
     }
    },
    "ExecuteTime": {
     "end_time": "2025-04-10T18:32:23.693968Z",
     "start_time": "2025-04-10T18:32:23.690962Z"
    }
   },
   "source": [
    "# !python Intercept_dataset_row.py"
   ],
   "outputs": [],
   "execution_count": 3
  },
  {
   "cell_type": "markdown",
   "id": "19bb399cf83e7041",
   "metadata": {
    "id": "19bb399cf83e7041"
   },
   "source": [
    "### 划分数据集"
   ]
  },
  {
   "cell_type": "code",
   "id": "392be2ee81a9c212",
   "metadata": {
    "id": "392be2ee81a9c212",
    "executionInfo": {
     "status": "ok",
     "timestamp": 1741005625627,
     "user_tz": -480,
     "elapsed": 80,
     "user": {
      "displayName": "Seagal",
      "userId": "11790859596784159614"
     }
    },
    "ExecuteTime": {
     "end_time": "2025-04-10T18:32:23.697841Z",
     "start_time": "2025-04-10T18:32:23.693968Z"
    }
   },
   "source": [
    "# # !python dataset_splitter.py\n",
    "# \n",
    "# # 目标文件夹\n",
    "# output_dir = \"./train_data_size_1000000_zh2en\"\n",
    "# \n",
    "# # 输入文件\n",
    "# src_file = f\"{output_dir}/UNv1.0.en-zh.zh\"\n",
    "# tgt_file = f\"{output_dir}/UNv1.0.en-zh.en\"\n",
    "# \n",
    "# # 输出文件路径\n",
    "# train_src, train_tgt = f\"{output_dir}/train.zh\", f\"{output_dir}/train.en\"\n",
    "# val_src, val_tgt = f\"{output_dir}/val.zh\", f\"{output_dir}/val.en\"\n",
    "# test_src, test_tgt = f\"{output_dir}/test.zh\", f\"{output_dir}/test.en\"\n",
    "# \n",
    "# # 读取所有行\n",
    "# with open(src_file, \"r\", encoding=\"utf-8\") as f_src, open(tgt_file, \"r\", encoding=\"utf-8\") as f_tgt:\n",
    "#     src_lines = f_src.readlines()\n",
    "#     tgt_lines = f_tgt.readlines()\n",
    "# \n",
    "# # 确保行数一致\n",
    "# assert len(src_lines) == len(tgt_lines), \"行数不匹配！\"\n",
    "# \n",
    "# data = list(zip(src_lines, tgt_lines))\n",
    "# \n",
    "# # 划分 95% 训练，2.5% 验证，2.5% 测试\n",
    "# total_size = len(data)\n",
    "# train_size = int(total_size * 0.95)\n",
    "# val_size = int(total_size * 0.025)\n",
    "# \n",
    "# train_data = data[:train_size]\n",
    "# val_data = data[train_size:train_size + val_size]\n",
    "# test_data = data[train_size + val_size:]\n",
    "# \n",
    "# # 保存数据\n",
    "# def save_data(file, dataset, idx):\n",
    "#     with open(file, \"w\", encoding=\"utf-8\") as f:\n",
    "#         # 使用 tqdm 显示进度条\n",
    "#         for line in tqdm(dataset, desc=f\"Saving {file}\", unit=\"line\"):\n",
    "#             f.write(line[idx])  # idx=0: en, idx=1: zh\n",
    "# \n",
    "# save_data(train_src, train_data, 0)\n",
    "# save_data(train_tgt, train_data, 1)\n",
    "# save_data(val_src, val_data, 0)\n",
    "# save_data(val_tgt, val_data, 1)\n",
    "# save_data(test_src, test_data, 0)\n",
    "# save_data(test_tgt, test_data, 1)\n",
    "# \n",
    "# print(f\"数据集拆分完成，所有文件已保存到 {output_dir} 目录！\")"
   ],
   "outputs": [],
   "execution_count": 4
  },
  {
   "cell_type": "markdown",
   "id": "c55cfe97251d5cc4",
   "metadata": {
    "id": "c55cfe97251d5cc4"
   },
   "source": [
    "### Moses&Jieba 分词"
   ]
  },
  {
   "cell_type": "code",
   "id": "f21651bdc4e211b4",
   "metadata": {
    "id": "f21651bdc4e211b4",
    "executionInfo": {
     "status": "ok",
     "timestamp": 1741005625638,
     "user_tz": -480,
     "elapsed": 90,
     "user": {
      "displayName": "Seagal",
      "userId": "11790859596784159614"
     }
    },
    "ExecuteTime": {
     "end_time": "2025-04-10T18:32:23.702236Z",
     "start_time": "2025-04-10T18:32:23.698844Z"
    }
   },
   "source": [
    "# import os\n",
    "# from tqdm import tqdm\n",
    "# import jieba\n",
    "# from sacremoses import MosesTokenizer\n",
    "# from pathlib import Path\n",
    "# import subprocess\n",
    "# \n",
    "# # 配置目录路径\n",
    "# pair_dir = Path(\"./train_data_size_1000000_zh2en\")  # 双语数据目录\n",
    "# dest_dir = Path(\"./train_data_size_1000000_zh2en_cut\")  # 分词结果目录\n",
    "# \n",
    "# def moses_cut(in_file, out_file, lang):\n",
    "#     \"\"\"\n",
    "#     使用 MosesTokenizer 对输入文件的文本进行分词，并将分词后的结果保存到输出文件中。\n",
    "#     \"\"\"\n",
    "#     mt = MosesTokenizer(lang=lang)\n",
    "#     with open(out_file, \"w\", encoding=\"utf8\") as out_f, open(in_file, \"r\", encoding=\"utf8\") as f:\n",
    "#         lines = f.readlines()\n",
    "#         # 使用 tqdm 来显示处理进度\n",
    "#         for line in tqdm(lines, desc=f\"Moses tokenizing {in_file.name}\", unit=\"line\"):\n",
    "#             line = line.strip()\n",
    "#             if line:\n",
    "#                 cut_line = mt.tokenize(line, return_str=True)\n",
    "#                 out_f.write(cut_line.lower() + \"\\n\")\n",
    "# \n",
    "# def jieba_cut(in_file, out_file):\n",
    "#     \"\"\"\n",
    "#     使用 Jieba 对输入文件的文本进行分词，并将分词后的结果保存到输出文件中。\n",
    "#     \"\"\"\n",
    "#     with open(out_file, \"w\", encoding=\"utf8\") as out_f, open(in_file, \"r\", encoding=\"utf8\") as f:\n",
    "#         lines = f.readlines()\n",
    "#         # 使用 tqdm 来显示处理进度\n",
    "#         for line in tqdm(lines, desc=f\"Jieba tokenizing {in_file.name}\", unit=\"line\"):\n",
    "#             line = line.strip()\n",
    "#             if line:\n",
    "#                 cut_line = \" \".join(jieba.cut(line))\n",
    "#                 out_f.write(cut_line + \"\\n\")\n",
    "# \n",
    "# # 主程序\n",
    "# if __name__ == \"__main__\":\n",
    "#     # 检查目标目录是否存在，如果没有则创建\n",
    "#     dest_dir.mkdir(parents=True, exist_ok=True)\n",
    "# \n",
    "#     # 获取语言对文件所在的目录路径\n",
    "#     local_data_path = pair_dir\n",
    "#     data_dir = dest_dir\n",
    "# \n",
    "#     # 遍历 ['train', 'val', 'test'] 三个数据集模式，分别进行分词处理\n",
    "#     for mode in [\"train\", \"val\", \"test\"]:\n",
    "#         # 对源语言文本进行 Jieba 分词处理\n",
    "#         jieba_cut(\n",
    "#             local_data_path / f\"{mode}.zh\",  # 中文目标语言\n",
    "#             data_dir / f\"{mode}_src.cut.txt\"\n",
    "#         )\n",
    "#         print(f\"[{mode}] Chinese text tokenization completed\")\n",
    "# \n",
    "#         # 对目标语言文本进行 Moses 分词处理\n",
    "#         moses_cut(\n",
    "#             local_data_path / f\"{mode}.en\",  # 英文源语言\n",
    "#             data_dir / f\"{mode}_trg.cut.txt\",\n",
    "#             lang=\"en\"\n",
    "#         )\n",
    "#         print(f\"[{mode}] English text tokenization completed\")\n",
    "#     print(\"Preprocessing completed.\")"
   ],
   "outputs": [],
   "execution_count": 5
  },
  {
   "cell_type": "markdown",
   "id": "b65b2bad5c8d9b72",
   "metadata": {
    "id": "b65b2bad5c8d9b72"
   },
   "source": [
    "### BPE 分词"
   ]
  },
  {
   "cell_type": "code",
   "id": "b6a3ea0924ea37a5",
   "metadata": {
    "id": "b6a3ea0924ea37a5",
    "executionInfo": {
     "status": "ok",
     "timestamp": 1741005625640,
     "user_tz": -480,
     "elapsed": 1,
     "user": {
      "displayName": "Seagal",
      "userId": "11790859596784159614"
     }
    },
    "ExecuteTime": {
     "end_time": "2025-04-10T18:32:23.705184Z",
     "start_time": "2025-04-10T18:32:23.702236Z"
    }
   },
   "source": "# !sh double_vocab_bpe_process_zh2en.sh ./train_data_size_1000000_zh2en ./train_data_size_1000000_zh2en_cut",
   "outputs": [],
   "execution_count": 6
  },
  {
   "cell_type": "markdown",
   "id": "9baf1472469ce7aa",
   "metadata": {
    "id": "9baf1472469ce7aa"
   },
   "source": [
    "## DataLoader准备\n",
    "### LangPairDataset"
   ]
  },
  {
   "cell_type": "code",
   "id": "4892cd122f3d3f38",
   "metadata": {
    "colab": {
     "base_uri": "https://localhost:8080/"
    },
    "executionInfo": {
     "elapsed": 9010,
     "status": "ok",
     "timestamp": 1741005635028,
     "user": {
      "displayName": "Seagal",
      "userId": "11790859596784159614"
     },
     "user_tz": -480
    },
    "id": "4892cd122f3d3f38",
    "outputId": "d0fe6a9f-c95a-4c71-9b36-15dd1b78b0af",
    "ExecuteTime": {
     "end_time": "2025-04-10T18:32:23.993509Z",
     "start_time": "2025-04-10T18:32:23.705184Z"
    }
   },
   "source": [
    "from pathlib import Path\n",
    "from torch.utils.data import Dataset, DataLoader\n",
    "dataset_path = \"./train_data_size_1000000_zh2en\"\n",
    "\n",
    "class LangPairDataset(Dataset):\n",
    "    \"\"\"\n",
    "    加载和处理双语数据集，并支持数据缓存。\n",
    "    \"\"\"\n",
    "    def __init__(self, mode=\"train\", max_length=128, overwrite_cache=False, data_dir=dataset_path):\n",
    "        \"\"\"\n",
    "        初始化数据集。\n",
    "        :param mode: 数据集模式（\"train\" 或 \"val\"）\n",
    "        :param max_length: 句子最大长度，超过则过滤\n",
    "        :param overwrite_cache: 是否覆盖缓存，默认为 False\n",
    "        :param data_dir: 数据目录\n",
    "        \"\"\"\n",
    "        self.data_dir = Path(data_dir)  # 数据存储路径\n",
    "        cache_path = self.data_dir / \".cache\" / f\"de2en_{mode}_{max_length}.npy\"  # 缓存路径\n",
    "\n",
    "        if overwrite_cache or not cache_path.exists():  # 覆盖缓存或缓存不存在时重新处理\n",
    "            cache_path.parent.mkdir(parents=True, exist_ok=True)  # 创建缓存目录\n",
    "\n",
    "            # 读取源语言和目标语言文件\n",
    "            with open(self.data_dir / f\"{mode}_src.bpe\", \"r\", encoding=\"utf8\") as file:\n",
    "                self.src = file.readlines()\n",
    "\n",
    "            with open(self.data_dir / f\"{mode}_trg.bpe\", \"r\", encoding=\"utf8\") as file:\n",
    "                self.trg = file.readlines()\n",
    "\n",
    "            filtered_src, filtered_trg = [], []  # 存放过滤后的句子\n",
    "\n",
    "            # 过滤句子长度\n",
    "            for src, trg in zip(self.src, self.trg):\n",
    "                if len(src) <= max_length and len(trg) <= max_length:\n",
    "                    filtered_src.append(src.strip())  # 去除首尾空格\n",
    "                    filtered_trg.append(trg.strip())\n",
    "\n",
    "            # 保存为 NumPy 数组并缓存\n",
    "            np.save(cache_path, {\"src\": np.array(filtered_src), \"trg\": np.array(filtered_trg)}, allow_pickle=True)\n",
    "            print(f\"save cache to {cache_path}\")\n",
    "\n",
    "        else:  # 加载已有缓存\n",
    "            cache_dict = np.load(cache_path, allow_pickle=True).item()\n",
    "            print(f\"load {mode} dataset from {cache_path}\")\n",
    "            filtered_src = cache_dict[\"src\"]\n",
    "            filtered_trg = cache_dict[\"trg\"]\n",
    "\n",
    "        self.src = filtered_src  # 源语言数据\n",
    "        self.trg = filtered_trg  # 目标语言数据\n",
    "\n",
    "    def __getitem__(self, index):\n",
    "        \"\"\"\n",
    "        获取指定索引的源语言和目标语言句子。\n",
    "        \"\"\"\n",
    "        return self.src[index], self.trg[index]\n",
    "\n",
    "    def __len__(self):\n",
    "        \"\"\"\n",
    "        返回数据集大小。\n",
    "        \"\"\"\n",
    "        return len(self.src)\n",
    "\n",
    "# 创建训练集和验证集对象\n",
    "train_ds = LangPairDataset(\"train\")\n",
    "val_ds = LangPairDataset(\"val\")"
   ],
   "outputs": [
    {
     "name": "stdout",
     "output_type": "stream",
     "text": [
      "load train dataset from train_data_size_1000000_zh2en\\.cache\\de2en_train_128.npy\n",
      "load val dataset from train_data_size_1000000_zh2en\\.cache\\de2en_val_128.npy\n"
     ]
    }
   ],
   "execution_count": 7
  },
  {
   "cell_type": "code",
   "id": "a200bc6a2b8a82e4",
   "metadata": {
    "colab": {
     "base_uri": "https://localhost:8080/"
    },
    "executionInfo": {
     "elapsed": 3,
     "status": "ok",
     "timestamp": 1741005635032,
     "user": {
      "displayName": "Seagal",
      "userId": "11790859596784159614"
     },
     "user_tz": -480
    },
    "id": "a200bc6a2b8a82e4",
    "outputId": "14d4874c-760a-401a-e55f-d099623d25c0",
    "ExecuteTime": {
     "end_time": "2025-04-10T18:32:23.997356Z",
     "start_time": "2025-04-10T18:32:23.994514Z"
    }
   },
   "source": [
    "# 例子：查看数据集大小\n",
    "print(len(train_ds))\n",
    "print(len(val_ds))\n",
    "for i in range(2):\n",
    "    print(\"source: {}\\ntarget: {}\".format(*train_ds[i]))\n",
    "    print(\"-\"*50)"
   ],
   "outputs": [
    {
     "name": "stdout",
     "output_type": "stream",
     "text": [
      "442260\n",
      "10613\n",
      "source: 第 918 ( 1994 ) 号 决议\n",
      "target: resolution 918 ( 1994 )\n",
      "--------------------------------------------------\n",
      "source: 1994 年 5 月 17 日 安全 理事会 第 3@@ 377 次 会议 通过\n",
      "target: adopted by the security council at its 3@@ 37@@ 7th meeting , on 17 may 1994\n",
      "--------------------------------------------------\n"
     ]
    }
   ],
   "execution_count": 8
  },
  {
   "cell_type": "markdown",
   "id": "9902f9c937b68aaf",
   "metadata": {
    "id": "9902f9c937b68aaf"
   },
   "source": [
    " ### Tokenizer"
   ]
  },
  {
   "cell_type": "code",
   "id": "6320edf9d082e46e",
   "metadata": {
    "colab": {
     "base_uri": "https://localhost:8080/",
     "height": 81,
     "referenced_widgets": [
      "5ad4c47414d349c1b44fb38afc8449a9",
      "a7e755097ad94a27baa4908d85564fe3",
      "c336ff919ad84c06b4d435af8812da34",
      "db072193241b4176abd7dff003ad4c22",
      "60dc9410aadc4e98a65b2621fc2bd294",
      "e8a5c441580f4fbba993d85e94ab7f25",
      "232d53940b5844d7a40ad03c7ece7459",
      "b83a47e3df014d6aa927559f0240d248",
      "8739091f49cb45a3a32f4e6610337024",
      "c301ed4cc6b642c5be5d5d4f03b5696d",
      "cdbcd22293aa46318e72ad3eedf979ab",
      "9637c960540e482a91130e54e64d4a32",
      "047bb5c224b94380b292ba1b133e0417",
      "7a8b3dc358154d25aabfa8ad218a19bc",
      "3a17919d1d854783940dbf23d7061f36",
      "89a51a19525649308a9fc3d068ba4319",
      "ceb3853559e548dc85979b470b4e6143",
      "da9d413568a54d0d8dc97f7db1fcaf16",
      "9d0364127f6b48d4aac7adfc68b21752",
      "65093a24b53041efb05248534b2f4e3e",
      "33d480e964954516a0d3a0767204e79b",
      "5eae7f34d8a744aebdeada57727b0361"
     ]
    },
    "executionInfo": {
     "elapsed": 311,
     "status": "ok",
     "timestamp": 1741005635344,
     "user": {
      "displayName": "Seagal",
      "userId": "11790859596784159614"
     },
     "user_tz": -480
    },
    "id": "6320edf9d082e46e",
    "outputId": "116edd6c-b1c3-4bdf-8470-a6dc70794315",
    "ExecuteTime": {
     "end_time": "2025-04-10T18:32:24.106776Z",
     "start_time": "2025-04-10T18:32:23.997356Z"
    }
   },
   "source": [
    "# 构建英文和中文的word2idx和idx2word字典\n",
    "en_word2idx = {\n",
    "    \"[PAD]\": 0,\n",
    "    \"[BOS]\": 1,\n",
    "    \"[UNK]\": 2,\n",
    "    \"[EOS]\": 3,\n",
    "}\n",
    "zh_word2idx = {\n",
    "    \"[PAD]\": 0,\n",
    "    \"[BOS]\": 1,\n",
    "    \"[UNK]\": 2,\n",
    "    \"[EOS]\": 3,\n",
    "}\n",
    "\n",
    "# 反向索引\n",
    "en_idx2word = {value: key for key, value in en_word2idx.items()}\n",
    "zh_idx2word = {value: key for key, value in zh_word2idx.items()}\n",
    "\n",
    "# 分别加载英文和中文词表\n",
    "en_index = len(en_idx2word)\n",
    "zh_index = len(zh_idx2word)\n",
    "threshold = 1\n",
    "\n",
    "# 读取英文词表\n",
    "with open(f\"{dataset_path}/en.vocab\", \"r\", encoding=\"utf8\") as file:\n",
    "    for line in tqdm(file.readlines()):\n",
    "        token, counts = line.strip().split()\n",
    "        if int(counts) >= threshold:\n",
    "            en_word2idx[token] = en_index\n",
    "            en_idx2word[en_index] = token\n",
    "            en_index += 1\n",
    "\n",
    "# 读取中文词表\n",
    "with open(f\"{dataset_path}/zh.vocab\", \"r\", encoding=\"utf8\") as file:\n",
    "    for line in tqdm(file.readlines()):\n",
    "        token, counts = line.strip().split()\n",
    "        if int(counts) >= threshold:\n",
    "            zh_word2idx[token] = zh_index\n",
    "            zh_idx2word[zh_index] = token\n",
    "            zh_index += 1"
   ],
   "outputs": [
    {
     "data": {
      "text/plain": [
       "  0%|          | 0/47609 [00:00<?, ?it/s]"
      ],
      "application/vnd.jupyter.widget-view+json": {
       "version_major": 2,
       "version_minor": 0,
       "model_id": "a2106a974b3b4d92b06c22f6d233791c"
      }
     },
     "metadata": {},
     "output_type": "display_data"
    },
    {
     "data": {
      "text/plain": [
       "  0%|          | 0/54986 [00:00<?, ?it/s]"
      ],
      "application/vnd.jupyter.widget-view+json": {
       "version_major": 2,
       "version_minor": 0,
       "model_id": "926cccee05444b0386a9ca01e941c022"
      }
     },
     "metadata": {},
     "output_type": "display_data"
    }
   ],
   "execution_count": 9
  },
  {
   "cell_type": "code",
   "id": "ff0473d08da12b51",
   "metadata": {
    "id": "ff0473d08da12b51",
    "executionInfo": {
     "status": "ok",
     "timestamp": 1741005635524,
     "user_tz": -480,
     "elapsed": 179,
     "user": {
      "displayName": "Seagal",
      "userId": "11790859596784159614"
     }
    },
    "ExecuteTime": {
     "end_time": "2025-04-10T18:32:24.114469Z",
     "start_time": "2025-04-10T18:32:24.107778Z"
    }
   },
   "source": [
    "class Tokenizer:\n",
    "    def __init__(self, word2idx, idx2word, max_length=128, pad_idx=0, bos_idx=1, eos_idx=3, unk_idx=2):\n",
    "        \"\"\"\n",
    "        初始化 Tokenizer。\n",
    "        :param word2idx: 单词到索引的映射\n",
    "        :param idx2word: 索引到单词的映射\n",
    "        :param max_length: 最大句子长度，超出则截断\n",
    "        :param pad_idx: 填充 token 索引\n",
    "        :param bos_idx: 句子起始 token 索引\n",
    "        :param eos_idx: 句子结束 token 索引\n",
    "        :param unk_idx: 未知单词索引\n",
    "        \"\"\"\n",
    "        self.word2idx = word2idx\n",
    "        self.idx2word = idx2word\n",
    "        self.max_length = max_length\n",
    "        self.pad_idx = pad_idx\n",
    "        self.bos_idx = bos_idx\n",
    "        self.eos_idx = eos_idx\n",
    "        self.unk_idx = unk_idx\n",
    "\n",
    "    def encode(self, text_list, padding_first=False, add_bos=True, add_eos=True, return_mask=False):\n",
    "        \"\"\"\n",
    "        将文本列表编码为索引列表。\n",
    "        :param text_list: 文本列表，每个元素是一个单词列表\n",
    "        :param padding_first: 是否将 [PAD] 填充到句首\n",
    "        :param add_bos: 是否添加 [BOS] 起始符号\n",
    "        :param add_eos: 是否添加 [EOS] 结束符号\n",
    "        :param return_mask: 是否返回 mask\n",
    "        :return: 编码后的 input_ids 或 (input_ids, masks)\n",
    "        \"\"\"\n",
    "        max_length = min(self.max_length, add_eos + add_bos + max([len(text) for text in text_list]))\n",
    "        indices_list = []\n",
    "\n",
    "        for text in text_list:\n",
    "            indices = [self.word2idx.get(word, self.unk_idx) for word in text[:max_length - add_bos - add_eos]]\n",
    "            if add_bos: indices = [self.bos_idx] + indices\n",
    "            if add_eos: indices = indices + [self.eos_idx]\n",
    "\n",
    "            # 填充到 max_length\n",
    "            if padding_first:\n",
    "                indices = [self.pad_idx] * (max_length - len(indices)) + indices\n",
    "            else:\n",
    "                indices = indices + [self.pad_idx] * (max_length - len(indices))\n",
    "\n",
    "            indices_list.append(indices)\n",
    "\n",
    "        input_ids = torch.tensor(indices_list) # 转换为 tensor\n",
    "        masks = (input_ids == self.pad_idx).to(dtype=torch.int64)  # 生成 mask，标记 padding 部分\n",
    "\n",
    "        return input_ids if not return_mask else (input_ids, masks)\n",
    "\n",
    "    def decode(self, indices_list, remove_bos=True, remove_eos=True, remove_pad=True, split=False):\n",
    "        \"\"\"\n",
    "        解码索引列表为文本列表。\n",
    "        :param indices_list: 索引列表\n",
    "        :param remove_bos: 是否移除 [BOS]\n",
    "        :param remove_eos: 是否移除 [EOS]\n",
    "        :param remove_pad: 是否移除 [PAD]\n",
    "        :param split: 是否返回分词列表\n",
    "        :return: 解码后的文本列表\n",
    "        \"\"\"\n",
    "        text_list = []\n",
    "\n",
    "        for indices in indices_list:\n",
    "            text = []\n",
    "            for index in indices:\n",
    "                word = self.idx2word.get(index, \"[UNK]\")  # 获取单词\n",
    "                if remove_bos and word == \"[BOS]\": continue\n",
    "                if remove_eos and word == \"[EOS]\": break\n",
    "                if remove_pad and word == \"[PAD]\": break\n",
    "                text.append(word)\n",
    "\n",
    "            text_list.append(\" \".join(text) if not split else text)\n",
    "\n",
    "        return text_list"
   ],
   "outputs": [],
   "execution_count": 10
  },
  {
   "cell_type": "code",
   "id": "d020a4b0bcfeb51c",
   "metadata": {
    "colab": {
     "base_uri": "https://localhost:8080/"
    },
    "executionInfo": {
     "elapsed": 5,
     "status": "ok",
     "timestamp": 1741005635530,
     "user": {
      "displayName": "Seagal",
      "userId": "11790859596784159614"
     },
     "user_tz": -480
    },
    "id": "d020a4b0bcfeb51c",
    "outputId": "a446d5fe-4235-49e6-abcf-3a59d52b4311",
    "ExecuteTime": {
     "end_time": "2025-04-10T18:32:24.119099Z",
     "start_time": "2025-04-10T18:32:24.115473Z"
    }
   },
   "source": [
    "# 创建英文和中文的tokenizer\n",
    "en_tokenizer = Tokenizer(word2idx=en_word2idx, idx2word=en_idx2word)\n",
    "zh_tokenizer = Tokenizer(word2idx=zh_word2idx, idx2word=zh_idx2word)\n",
    "\n",
    "# 输出词表大小\n",
    "en_vocab_size = len(en_word2idx)\n",
    "zh_vocab_size = len(zh_word2idx)\n",
    "print(\"en_vocab_size: {}\".format(en_vocab_size))  # 打印英文词表大小\n",
    "print(\"zh_vocab_size: {}\".format(zh_vocab_size))  # 打印中文词表大小"
   ],
   "outputs": [
    {
     "name": "stdout",
     "output_type": "stream",
     "text": [
      "en_vocab_size: 47613\n",
      "zh_vocab_size: 54990\n"
     ]
    }
   ],
   "execution_count": 11
  },
  {
   "cell_type": "markdown",
   "id": "b570d392dee27856",
   "metadata": {
    "id": "b570d392dee27856"
   },
   "source": [
    "### Transformer Batch Sampler"
   ]
  },
  {
   "cell_type": "code",
   "id": "5c67080f63578e89",
   "metadata": {
    "id": "5c67080f63578e89",
    "executionInfo": {
     "status": "ok",
     "timestamp": 1741005635532,
     "user_tz": -480,
     "elapsed": 1,
     "user": {
      "displayName": "Seagal",
      "userId": "11790859596784159614"
     }
    },
    "ExecuteTime": {
     "end_time": "2025-04-10T18:32:24.126511Z",
     "start_time": "2025-04-10T18:32:24.120106Z"
    }
   },
   "source": [
    "class SampleInfo:\n",
    "    def __init__(self, i, lens):\n",
    "        \"\"\"\n",
    "        记录文本对的序号和长度信息。\n",
    "\n",
    "        :param i: 文本对的序号。\n",
    "        :param lens: 文本对的长度，包含源语言和目标语言的长度。\n",
    "        \"\"\"\n",
    "        self.i = i\n",
    "        # 加一是为了考虑填充的特殊词元，lens[0] 和 lens[1] 分别表示源语言和目标语言的长度\n",
    "        self.max_len = max(lens[0], lens[1]) + 1\n",
    "        self.src_len = lens[0] + 1\n",
    "        self.trg_len = lens[1] + 1\n",
    "\n",
    "\n",
    "class TokenBatchCreator:\n",
    "    def __init__(self, batch_size):\n",
    "        \"\"\"\n",
    "        根据词元数目限制批量大小，并初始化批量存储结构。\n",
    "\n",
    "        :param batch_size: 批量的最大大小。\n",
    "        \"\"\"\n",
    "        self._batch = []  # 当前处理的样本\n",
    "        self.max_len = -1  # 当前批量的最大长度\n",
    "        self._batch_size = batch_size  # 批量大小限制\n",
    "\n",
    "    def append(self, info: SampleInfo):\n",
    "        \"\"\"\n",
    "        将样本信息添加到批量中。如果当前批量大小超过限制，则返回当前批量并创建新批量。\n",
    "\n",
    "        :param info: 包含文本对长度信息的 SampleInfo 对象。\n",
    "        :return: 当前批量样本，如果超过限制，则返回并重置批量，否则返回 None。\n",
    "        \"\"\"\n",
    "        cur_len = info.max_len  # 当前样本的最大长度\n",
    "        max_len = max(self.max_len, cur_len)  # 更新当前批量的最大长度\n",
    "\n",
    "        # 如果当前批量加入新样本后超过限制，返回当前批量并重置\n",
    "        if max_len * (len(self._batch) + 1) > self._batch_size:\n",
    "            self._batch, result = [], self._batch  # 保存当前样本并清空\n",
    "            self._batch.append(info)  # 新批量的第一条样本\n",
    "            self.max_len = cur_len  # 当前批量的最大长度为新样本的最大长度\n",
    "            return result\n",
    "        else:\n",
    "            self.max_len = max_len\n",
    "            self._batch.append(info)  # 将新样本加入当前批量\n",
    "            return None\n",
    "\n",
    "    @property\n",
    "    def batch(self):\n",
    "        return self._batch"
   ],
   "outputs": [],
   "execution_count": 12
  },
  {
   "cell_type": "code",
   "id": "8455ce82888b56d4",
   "metadata": {
    "id": "8455ce82888b56d4",
    "executionInfo": {
     "status": "ok",
     "timestamp": 1741005635533,
     "user_tz": -480,
     "elapsed": 1,
     "user": {
      "displayName": "Seagal",
      "userId": "11790859596784159614"
     }
    },
    "ExecuteTime": {
     "end_time": "2025-04-10T18:32:24.133507Z",
     "start_time": "2025-04-10T18:32:24.127518Z"
    }
   },
   "source": [
    "from torch.utils.data import BatchSampler\n",
    "import numpy as np\n",
    "\n",
    "class TransformerBatchSampler(BatchSampler):\n",
    "    def __init__(self,\n",
    "                 dataset,\n",
    "                 batch_size,\n",
    "                 shuffle_batch=False,\n",
    "                 clip_last_batch=False,\n",
    "                 seed=0):\n",
    "        \"\"\"\n",
    "        批量采样器，用于按批次生成样本。\n",
    "\n",
    "        :param dataset: 数据集\n",
    "        :param batch_size: 每个批次的样本数量\n",
    "        :param shuffle_batch: 是否对批次进行洗牌\n",
    "        :param clip_last_batch: 是否裁剪最后一个批次的数据（如果样本数不足一个完整批次）\n",
    "        :param seed: 随机数种子，用于保证可重复性\n",
    "        \"\"\"\n",
    "        self._dataset = dataset\n",
    "        self._batch_size = batch_size\n",
    "        self._shuffle_batch = shuffle_batch\n",
    "        self._clip_last_batch = clip_last_batch\n",
    "        self._seed = seed\n",
    "        self._random = np.random\n",
    "        self._random.seed(seed)\n",
    "\n",
    "        self._sample_infos = []\n",
    "        # 创建样本信息列表，包含每个样本的索引和长度信息\n",
    "        for i, data in enumerate(self._dataset):\n",
    "            lens = [len(data[0]), len(data[1])]  # 计算样本的源语言和目标语言的长度\n",
    "            self._sample_infos.append(SampleInfo(i, lens)) # 保存为 [索引，样本长度]的格式\n",
    "\n",
    "    def __iter__(self):\n",
    "        \"\"\"\n",
    "        对数据集中的样本进行排序，并使用 TokenBatchCreator 生成批次。\n",
    "\n",
    "        排序规则：先按源语言长度排序，若源语言长度相同，再按目标语言长度排序。\n",
    "        生成的批次如果未裁剪最后一批，则将剩余样本组成最后一个批次。\n",
    "        如果需要洗牌，则对批次进行洗牌。\n",
    "\n",
    "        :yield: 每个批次的样本在数据集中的索引\n",
    "        \"\"\"\n",
    "        # 按源语言和目标语言长度排序\n",
    "        infos = sorted(self._sample_infos, key=lambda x: (x.src_len, x.trg_len))\n",
    "        batch_infos = []\n",
    "        batch_creator = TokenBatchCreator(self._batch_size)  # 批量生成器\n",
    "\n",
    "        # 逐个样本加入批量生成器\n",
    "        for info in infos:\n",
    "            batch = batch_creator.append(info)\n",
    "            if batch is not None:\n",
    "                batch_infos.append(batch)  # 每当批次满足要求时，保存当前批次\n",
    "\n",
    "        # 如果未裁剪最后一个批次且有剩余样本，则将剩余样本作为最后一个批次\n",
    "        if not self._clip_last_batch and len(batch_creator.batch) != 0:\n",
    "            batch_infos.append(batch_creator.batch)\n",
    "\n",
    "        # 打乱批次顺序\n",
    "        if self._shuffle_batch:\n",
    "            self._random.shuffle(batch_infos)\n",
    "\n",
    "        # 记录批次数量\n",
    "        self.batch_number = len(batch_infos)\n",
    "\n",
    "        # 生成批次中的样本索引\n",
    "        for batch in batch_infos:\n",
    "            batch_indices = [info.i for info in batch]  # 获取当前批次的样本索引\n",
    "            yield batch_indices\n",
    "\n",
    "    def __len__(self):\n",
    "        \"\"\"\n",
    "        返回批次数量\n",
    "        \"\"\"\n",
    "        if hasattr(self, \"batch_number\"):\n",
    "            return self.batch_number\n",
    "\n",
    "        # 如果没有记录批次数量，计算批次样本数量\n",
    "        batch_number = (len(self._dataset) + self._batch_size - 1) // self._batch_size\n",
    "        return batch_number"
   ],
   "outputs": [],
   "execution_count": 13
  },
  {
   "cell_type": "code",
   "id": "2ee2d7cfa13fccb9",
   "metadata": {
    "colab": {
     "base_uri": "https://localhost:8080/"
    },
    "executionInfo": {
     "elapsed": 1347,
     "status": "ok",
     "timestamp": 1741005636881,
     "user": {
      "displayName": "Seagal",
      "userId": "11790859596784159614"
     },
     "user_tz": -480
    },
    "id": "2ee2d7cfa13fccb9",
    "outputId": "0c92e973-33cf-46d0-b88d-818b620f6a7f",
    "ExecuteTime": {
     "end_time": "2025-04-10T18:32:25.421379Z",
     "start_time": "2025-04-10T18:32:24.136515Z"
    }
   },
   "source": [
    "# 创建一个 TransformerBatchSampler 实例，用于从训练数据集 train_ds 中按批次采样样本\n",
    "sampler = TransformerBatchSampler(\n",
    "    train_ds,  # 训练数据集，包含源语言和目标语言的样本\n",
    "    batch_size=4096,  # 每个批次包含的样本数量，设定为 4096\n",
    "    shuffle_batch=True  # 是否对批次进行洗牌，设定为 True，即每次迭代时都会打乱批次顺序\n",
    ")\n",
    "# 例子： 打印一个批次的样本索引\n",
    "for idx, batch in enumerate(sampler):\n",
    "    print(\"第{}批量的数据中含有文本对的索引是：{}，当前批次样本数量为：{}\".format(idx, batch, len(batch)))\n",
    "    break\n",
    "for i in batch:\n",
    "    print(f\"{i}: {train_ds[i]}\\n\");\n",
    "total_len = 0;"
   ],
   "outputs": [
    {
     "name": "stdout",
     "output_type": "stream",
     "text": [
      "第0批量的数据中含有文本对的索引是：[65273, 65920, 74163, 78015, 79639, 80587, 83587, 85706, 96407, 105045, 105738, 108845, 129976, 131843, 135182, 135785, 135820, 138204, 138387, 156557, 158737, 165239, 167390, 167961, 168722, 169847, 172009, 177114, 180532, 181113, 186088, 188805, 189314, 189743]，当前批次样本数量为：34\n",
      "65273: (np.str_('* 在 男女 儿童 插图 中 ， 对 他们 进行 的 不同 活动 ， 书本 应 鼓励 行动 平等 。'), np.str_('- books should promote equality of action in the illustrations of boys and girls engaged in their various activities ;'))\n",
      "\n",
      "65920: (np.str_('资料 来源 ： 全国 人口 和 住房 调查 ， 扩大 的 最后 结果 ， 经济 特点 ， 卷 四 。'), np.str_('source : national population and housing census , final basic expanded results , economic characteristics , vol . iv .'))\n",
      "\n",
      "74163: (np.str_('209 . 委员会 注意 到 ， 《 盟约 》 第 15 条 的 规定 未 满意 地 获得 落实 。'), np.str_('209 . the committee notes that the provisions of article 15 of the covenant are not being implemented satisfactorily .'))\n",
      "\n",
      "78015: (np.str_('1996 年 颁布 的 进一步 立法 是 关于 在 照看 子女 方面 在职 妇女 的 地位 问题 。'), np.str_('further legislation enacted in 1996 addressed the status of working women with regard to the provision of child care .'))\n",
      "\n",
      "79639: (np.str_('在 比利时 、 法国 、 德国 、 意大利 和 瑞士 等国 ， 此类 车辆 很 容易 到@@ 手 。'), np.str_('such vehicles were easy to obtain from european countries such as belgium , france , germany , italy and switzerland .'))\n",
      "\n",
      "80587: (np.str_('委员会 本届 会议 将 收到 工作组 的 报告 ( E / CN.4 / 1997 / 33 ) 。'), np.str_('at the present session , the commission will have before it the report of the working group ( e / cn.4 / 1997 / 33 ) .'))\n",
      "\n",
      "83587: (np.str_('51 . 在 紧急状况 初期 阶段 期间 ， 政府 援助 的 最初 对象 是 国内 流离失所 者 。'), np.str_('in the early phases of the emergency , the government initially targeted assistance towards the internally displaced .'))\n",
      "\n",
      "85706: (np.str_('213 . 此外 ， 扎伊尔 还 明确 断然拒绝 与 设法 解决 大湖地区 危机 的 机构 合作 。'), np.str_('213 . furthermore , zaire has flat@@ ly refused to cooperate with bodies seeking solutions to the great lakes crisis .'))\n",
      "\n",
      "96407: (np.str_('6 . 自从 苏维埃 解体 之后 ， 白俄罗斯 经历 了 深刻 的 政治 、 经济 和 社会变革 。'), np.str_('since the break-up of the soviet union , belarus has been undergoing profound political , economic and social change .'))\n",
      "\n",
      "105045: (np.str_('76 . 一位 专家 探讨 了 改变 三项 国际 药物 管制 条约 的 管制 范围 所 需 程序 。'), np.str_('an expert examined the procedures for changing the scope of control of the three international drug control treaties .'))\n",
      "\n",
      "105738: (np.str_('这 包括 药品 周转基金 ， 实验室 费用 ， 服务 部分 或 全部 收费 以及 的 其他 安排 。'), np.str_('these include drug revolving funds , laboratory fees , partial or full payment for services , and other arrangements .'))\n",
      "\n",
      "108845: (np.str_('同时 ， 也 确认 在 荒@@ 原 地 植树造林 具有 增进 二氧化碳 汇 容量 的 巨大 潜力 。'), np.str_('a substantial potential for the enhancement of co2 sinks has also been identified in afforestation of abandoned land .'))\n",
      "\n",
      "129976: (np.str_('结构件 是 指@@ 罐 壳 外部 的 加固 部件 、 紧固 部件 、 防护 部件 和 稳定 部件 ；'), np.str_('structural equipment means the reinforcing , fast@@ ening , protective and stabilizing members external to the shell ;'))\n",
      "\n",
      "131843: (np.str_('该项 目的 第二阶段 是 世界银行 供资 的 一个多 式 联运 和 贸易 便利 方案 的 一部分 。'), np.str_('the second phase of the project was part of a multimodal and trade facilitation programme financed by the world bank .'))\n",
      "\n",
      "135182: (np.str_('贸发 会议 和 开发计划署 目前 正在 一些 发展中国家 联合 执行 一个 环境 管理系统 项目 。'), np.str_('unctad and undp are undertaking a joint project on environmental management systems in selected developing countries .'))\n",
      "\n",
      "135785: (np.str_('但是 ， 此种 销售 办法 的 最终 目的 ， 是 通过 采用 这种 倾销 手段 来 消除 竞争 。'), np.str_('however , the ultimate purpose of this sales method is to eliminate competition by resorting to this form of dumping .'))\n",
      "\n",
      "135820: (np.str_('( a ) 涉及 到 全部 或 部分 货物 产权 或 所有权 、 权利 和 义务 转移 的 行为 。'), np.str_('( a ) acts which involve a transfer of property or of ownership of all or part of the goods , rights and obligations .'))\n",
      "\n",
      "138204: (np.str_('因此 ， 随着 接受 帮助 的 企业 不断 强大 起来 ， 应 逐步 取消 商务 服务 的 补贴 。'), np.str_('thus , the subsidization of business services needs to be phased out as the recipient enterprises become more viable .'))\n",
      "\n",
      "138387: (np.str_('2 . 在 世贸组织 部长会议 之后 出现 而 需要 贸发 会议 从 发展 角度 加以分析 的 问题'), np.str_('2 . issues arising in the wake of the wto ministerial conference for analysis in unctad from a development perspective'))\n",
      "\n",
      "156557: (np.str_('由于 和平 进程 似乎 停滞不前 , 预期 这些 行动 在 不久 的 将来 不会 有 重大 改变 。'), np.str_('as the peace process appears not to be moving , no fundamental changes in operations are expected in the near future ;'))\n",
      "\n",
      "158737: (np.str_('咨询 委员会 获悉 余额 ( 4 153 000 美元 ) 将 由 塞浦路斯 和 希腊政府 支付 。'), np.str_('the committee was informed that the balance ( $ 4,@@ 153,000 ) would be paid by the governments of cyprus and greece .'))\n",
      "\n",
      "165239: (np.str_('必须 审查 和 充分 优化 在 处理 中央 和 地方 权力 机构 相互 关系 中 现行 的 做法 。'), np.str_('the practices in use in mutual relations between the central and regional authorities must be reviewed and optimized .'))\n",
      "\n",
      "167390: (np.str_('4 . 以下 所 载 各项 建议 旨在 推动 进一步 执行 大会 第 50 / 227 号 决议 。'), np.str_('4 . the recommendations set out below are intended to promote further implementation of assembly resolution 50 / 227 .'))\n",
      "\n",
      "167961: (np.str_('( b ) 确定 研究 金 行政 管理 的 最佳 模式 以及 联合国 系统 在 这方面 的 作用 ;'), np.str_('( b ) determination of the optimal modality for fellowship administration and the united nations system role therein ;'))\n",
      "\n",
      "168722: (np.str_('248 . 有人 认为 , 不能 将 人权 的 监测 作为 维持 和平 行动 的 一个 组成部分 。'), np.str_('248 . the view was expressed that monitoring of human rights could not be a component of the peacekeeping operations .'))\n",
      "\n",
      "169847: (np.str_('248 . 有人 认为 , 不能 将 人权 的 监测 作为 维持 和平 行动 的 一个 组成部分 。'), np.str_('248 . the view was expressed that monitoring of human rights could not be a component of the peacekeeping operations .'))\n",
      "\n",
      "172009: (np.str_('全球化 极有 可能 改善 人民 的 生活 , 但 同样 也 能 扰乱 甚至 破坏 人民 的 生活 。'), np.str_('globalization has an immense potential to improve people ’ s lives , but it can disrupt – and destroy – them as well .'))\n",
      "\n",
      "177114: (np.str_('已 在 日内瓦 设立 一个 联合 工作队 , 为 谅解 备忘录 的 执行 工作 开展 后续 行动 。'), np.str_('a joint task force has been established in geneva to follow up the implementation of the memorandum of understanding .'))\n",
      "\n",
      "180532: (np.str_('206 . 在 就 这项 问题 透彻 地 交换意见 之后 , 委员会 根据 表决 作出 了 决定 。'), np.str_('206 . after a thorough exchange of views on the subject , the commission reached its decision on the basis of a vote .'))\n",
      "\n",
      "181113: (np.str_('52 荷兰 外交部 , 《 1998 年 荷兰 国际 合作 预算 》 , 1997 年 12 月 。'), np.str_('52 netherlands ministry of foreign affairs , the netherlands international cooperation budget , 1998 , december 1997 .'))\n",
      "\n",
      "186088: (np.str_('行政当局 也 应 考虑 在 收到 资金 时才 把 认捐 款项 记 作 收入 ( 第 18 段 ) 。'), np.str_('the administration should also consider recognizing pledges as income only when the funds are received ( para . 18 ) .'))\n",
      "\n",
      "188805: (np.str_('我们 正 开始 进行 新 的 重大 合作 , 以 进一步 减小 导弹 攻击 错误 警报 的 危险 。'), np.str_('we are embarking upon new and important cooperation to further lessen the risks of false warnings of missile attacks .'))\n",
      "\n",
      "189314: (np.str_('在 秘书处 , 与 男子 相比 , 来自 这些 区域 的 妇女 工作人员 所 占 比例 也 最大 。'), np.str_('in the secretariat , women from those regions also account for the highest proportion of women staff compared to men .'))\n",
      "\n",
      "189743: (np.str_('《 公约 》 就 提高 妇女地位 的 措施 不断 提供 指导 原则 , 直至 进入 下 一个千年 。'), np.str_('the convention would provide continuing guidance into the next millennium on measures to improve the status of women .'))\n",
      "\n"
     ]
    }
   ],
   "execution_count": 14
  },
  {
   "cell_type": "markdown",
   "id": "733964ae297ff8d0",
   "metadata": {
    "id": "733964ae297ff8d0"
   },
   "source": [
    "### DataLoader"
   ]
  },
  {
   "cell_type": "code",
   "id": "3d0c30ee420d4ec7",
   "metadata": {
    "id": "3d0c30ee420d4ec7",
    "executionInfo": {
     "status": "ok",
     "timestamp": 1741005636883,
     "user_tz": -480,
     "elapsed": 1,
     "user": {
      "displayName": "Seagal",
      "userId": "11790859596784159614"
     }
    },
    "ExecuteTime": {
     "end_time": "2025-04-10T18:32:25.426592Z",
     "start_time": "2025-04-10T18:32:25.422384Z"
    }
   },
   "source": [
    "from functools import partial # 固定collate_fct的tokenizer参数\n",
    "def collate_fct(batch, en_tokenizer, zh_tokenizer):\n",
    "    # 分别对源语言(英文)和目标语言(中文)进行处理\n",
    "    src_words = [pair[0].split() for pair in batch]\n",
    "    trg_words = [pair[1].split() for pair in batch]\n",
    "\n",
    "    # 使用中文tokenizer处理源语言\n",
    "    encoder_inputs, encoder_inputs_mask = zh_tokenizer.encode(\n",
    "        src_words, padding_first=False, add_bos=True, add_eos=True, return_mask=True\n",
    "    )\n",
    "\n",
    "    # 使用英文tokenizer处理目标语言\n",
    "    decoder_inputs = en_tokenizer.encode(\n",
    "        trg_words, padding_first=False, add_bos=True, add_eos=False, return_mask=False,\n",
    "    )\n",
    "\n",
    "    decoder_labels, decoder_labels_mask = en_tokenizer.encode(\n",
    "        trg_words, padding_first=False, add_bos=False, add_eos=True, return_mask=True\n",
    "    )\n",
    "\n",
    "    return {\n",
    "        \"encoder_inputs\": encoder_inputs.to(device=device),\n",
    "        \"encoder_inputs_mask\": encoder_inputs_mask.to(device=device),\n",
    "        \"decoder_inputs\": decoder_inputs.to(device=device),\n",
    "        \"decoder_labels\": decoder_labels.to(device=device),\n",
    "        \"decoder_labels_mask\": decoder_labels_mask.to(device=device),\n",
    "    }"
   ],
   "outputs": [],
   "execution_count": 15
  },
  {
   "cell_type": "code",
   "id": "e741b8e898efeb46",
   "metadata": {
    "colab": {
     "base_uri": "https://localhost:8080/"
    },
    "executionInfo": {
     "elapsed": 1513,
     "status": "ok",
     "timestamp": 1741005638397,
     "user": {
      "displayName": "Seagal",
      "userId": "11790859596784159614"
     },
     "user_tz": -480
    },
    "id": "e741b8e898efeb46",
    "outputId": "475ceda4-b983-45a1-eb04-a4ba7e6d111f",
    "ExecuteTime": {
     "end_time": "2025-04-10T18:32:26.893504Z",
     "start_time": "2025-04-10T18:32:25.427596Z"
    }
   },
   "source": [
    "# 例子：查看编码后的批次数据\n",
    "#可以调大batch_size,来看最终的bleu，如果GPU内存不够，可以减小batch_size\n",
    "sampler = TransformerBatchSampler(train_ds, batch_size=256, shuffle_batch=True)\n",
    "#partial函数，固定collate_fct的tokenizer参数\n",
    "sample_dl = DataLoader(train_ds, batch_sampler=sampler, collate_fn=partial(collate_fct, en_tokenizer=en_tokenizer, zh_tokenizer=zh_tokenizer))\n",
    "\n",
    "for batch in sample_dl:#外层是拿每个batch\n",
    "    for key, value in batch.items():#内层是拿每个batch里面是一个字典\n",
    "        print(key)\n",
    "        print(value)\n",
    "        print(value.shape)\n",
    "    break"
   ],
   "outputs": [
    {
     "name": "stdout",
     "output_type": "stream",
     "text": [
      "encoder_inputs\n",
      "tensor([[   1,  179,    6,   83, 1029, 1081,  664,   48,    6,   26, 1708, 1364,\n",
      "         1805,   44,  143,  274,   42,  194, 1081,  664,    5,    3,    0],\n",
      "        [   1,  272,  234,    4,   17,    6,  286,  269,  503,  609,    7,   44,\n",
      "         1899,    4,    6, 2268, 1594, 1101, 1098,    4, 2682,    5,    3]],\n",
      "       device='cuda:0')\n",
      "torch.Size([2, 23])\n",
      "encoder_inputs_mask\n",
      "tensor([[0, 0, 0, 0, 0, 0, 0, 0, 0, 0, 0, 0, 0, 0, 0, 0, 0, 0, 0, 0, 0, 0, 1],\n",
      "        [0, 0, 0, 0, 0, 0, 0, 0, 0, 0, 0, 0, 0, 0, 0, 0, 0, 0, 0, 0, 0, 0, 0]],\n",
      "       device='cuda:0')\n",
      "torch.Size([2, 23])\n",
      "decoder_inputs\n",
      "tensor([[   1,  114,  385, 3232, 1165,   67,    8, 8830,   16,   28,   58, 1478,\n",
      "         2792,   19,  269,    9,  711,   28,  153,    7,    0,    0],\n",
      "        [   1,  246, 7030,    6,   28,   23,    4,  670,  158,   58, 4157,    4,\n",
      "          246,  204,    4,  189,   48,   40,  761,    8,  305,    7]],\n",
      "       device='cuda:0')\n",
      "torch.Size([2, 22])\n",
      "decoder_labels\n",
      "tensor([[ 114,  385, 3232, 1165,   67,    8, 8830,   16,   28,   58, 1478, 2792,\n",
      "           19,  269,    9,  711,   28,  153,    7,    3,    0,    0],\n",
      "        [ 246, 7030,    6,   28,   23,    4,  670,  158,   58, 4157,    4,  246,\n",
      "          204,    4,  189,   48,   40,  761,    8,  305,    7,    3]],\n",
      "       device='cuda:0')\n",
      "torch.Size([2, 22])\n",
      "decoder_labels_mask\n",
      "tensor([[0, 0, 0, 0, 0, 0, 0, 0, 0, 0, 0, 0, 0, 0, 0, 0, 0, 0, 0, 0, 1, 1],\n",
      "        [0, 0, 0, 0, 0, 0, 0, 0, 0, 0, 0, 0, 0, 0, 0, 0, 0, 0, 0, 0, 0, 0]],\n",
      "       device='cuda:0')\n",
      "torch.Size([2, 22])\n"
     ]
    }
   ],
   "execution_count": 16
  },
  {
   "cell_type": "markdown",
   "id": "3a182c5d176092d0",
   "metadata": {
    "id": "3a182c5d176092d0"
   },
   "source": [
    "## 定义模型"
   ]
  },
  {
   "cell_type": "markdown",
   "id": "8b04813e382404cd",
   "metadata": {
    "id": "8b04813e382404cd"
   },
   "source": [
    "### Embedding"
   ]
  },
  {
   "cell_type": "code",
   "id": "bd57c110b91e2fb4",
   "metadata": {
    "id": "bd57c110b91e2fb4",
    "executionInfo": {
     "status": "ok",
     "timestamp": 1741005638446,
     "user_tz": -480,
     "elapsed": 45,
     "user": {
      "displayName": "Seagal",
      "userId": "11790859596784159614"
     }
    },
    "ExecuteTime": {
     "end_time": "2025-04-10T18:32:26.901805Z",
     "start_time": "2025-04-10T18:32:26.894569Z"
    }
   },
   "source": [
    "class TransformerEmbedding(nn.Module):\n",
    "    def __init__(self, config, vocab_size):\n",
    "        super().__init__()\n",
    "        # 获取配置中的超参数\n",
    "        self.vocab_size = vocab_size\n",
    "        self.hidden_size = config[\"d_model\"]\n",
    "        self.pad_idx = config[\"pad_idx\"]\n",
    "        dropout_rate = config[\"dropout\"]\n",
    "        self.max_length = config[\"max_length\"]\n",
    "\n",
    "        # 词嵌入层，padding_idx为pad的索引\n",
    "        self.word_embedding = nn.Embedding(self.vocab_size, self.hidden_size, padding_idx=self.pad_idx)\n",
    "        # 位置嵌入层，权重由get_positional_encoding计算得到\n",
    "        self.pos_embedding = nn.Embedding(\n",
    "            self.max_length,\n",
    "            self.hidden_size,\n",
    "            _weight=self.get_positional_encoding(self.max_length, self.hidden_size)\n",
    "        )\n",
    "        self.pos_embedding.weight.requires_grad_(False)  # 位置编码不可训练\n",
    "        self.dropout = nn.Dropout(dropout_rate)  # Dropout层\n",
    "\n",
    "    def get_word_embedding_weights(self):\n",
    "        # 返回词嵌入层的权重\n",
    "        return self.word_embedding.weight\n",
    "\n",
    "    @classmethod\n",
    "    def get_positional_encoding(self, max_length, hidden_size):\n",
    "        \"\"\"\n",
    "        计算位置编码\n",
    "        使用正弦和余弦函数生成位置编码矩阵\n",
    "        \"\"\"\n",
    "        pe = torch.zeros(max_length, hidden_size)\n",
    "        position = torch.arange(0, max_length).unsqueeze(1)  # 位置索引\n",
    "        div_term = torch.exp(\n",
    "            torch.arange(0, hidden_size, 2) * -(torch.log(torch.Tensor([10000.0])) / hidden_size)\n",
    "        )\n",
    "        # 填充位置编码矩阵\n",
    "        pe[:, 0::2] = torch.sin(position * div_term)  # 偶数列为sin\n",
    "        pe[:, 1::2] = torch.cos(position * div_term)  # 奇数列为cos\n",
    "        return pe\n",
    "\n",
    "    def forward(self, input_ids):\n",
    "        \"\"\"\n",
    "        前向传播：词向量与位置编码加和\n",
    "        \"\"\"\n",
    "        seq_len = input_ids.shape[1]  # 序列长度\n",
    "        assert seq_len <= self.max_length, f\"序列长度超出最大限制 {self.max_length}\"\n",
    "\n",
    "        # 生成位置id\n",
    "        position_ids = torch.arange(seq_len, dtype=torch.long, device=input_ids.device) # [seq_len]\n",
    "        position_ids = position_ids.unsqueeze(0).expand_as(input_ids)  # [batch_size, seq_len]\n",
    "\n",
    "        # 获取词嵌入和位置编码\n",
    "        word_embeds = self.word_embedding(input_ids) # [batch_size, seq_len, hidden_size]\n",
    "        pos_embeds = self.pos_embedding(position_ids) # [batch_size, seq_len, hidden_size]\n",
    "        embeds = word_embeds + pos_embeds  # 加和词向量和位置编码\n",
    "        embeds = self.dropout(embeds)  # 应用dropout\n",
    "        return embeds  # [batch_size, seq_len, hidden_size]\n",
    "\n",
    "\n",
    "def plot_position_embedding(position_embedding):\n",
    "    \"\"\"\n",
    "    绘制位置编码矩阵\n",
    "    \"\"\"\n",
    "    plt.pcolormesh(position_embedding)  # 绘制矩阵\n",
    "    plt.xlabel('Depth')  # x轴为深度\n",
    "    plt.ylabel('Position')  # y轴为位置\n",
    "    plt.colorbar()  # 显示颜色条\n",
    "    plt.show()  # 显示图像"
   ],
   "outputs": [],
   "execution_count": 17
  },
  {
   "cell_type": "code",
   "id": "49a6c190f5a92b1",
   "metadata": {
    "colab": {
     "base_uri": "https://localhost:8080/",
     "height": 1000
    },
    "executionInfo": {
     "elapsed": 230,
     "status": "ok",
     "timestamp": 1741005638677,
     "user": {
      "displayName": "Seagal",
      "userId": "11790859596784159614"
     },
     "user_tz": -480
    },
    "id": "49a6c190f5a92b1",
    "outputId": "9c0d2fa2-e2ed-4883-c2f4-9f28e6d3944c",
    "ExecuteTime": {
     "end_time": "2025-04-10T18:32:27.022630Z",
     "start_time": "2025-04-10T18:32:26.902808Z"
    }
   },
   "source": [
    "# 例子：获取64个位置、128维词向量的位置编码矩阵并绘制\n",
    "position_embedding = TransformerEmbedding.get_positional_encoding(64, 128)\n",
    "plot_position_embedding(position_embedding)"
   ],
   "outputs": [
    {
     "data": {
      "text/plain": [
       "<Figure size 640x480 with 2 Axes>"
      ],
      "image/png": "[encoded data removed]"
     },
     "metadata": {},
     "output_type": "display_data"
    }
   ],
   "execution_count": 18
  },
  {
   "cell_type": "markdown",
   "id": "b1cb752dfcdf7f80",
   "metadata": {
    "id": "b1cb752dfcdf7f80"
   },
   "source": [
    "### Transformer"
   ]
  },
  {
   "cell_type": "markdown",
   "id": "8f99de547b07abe2",
   "metadata": {
    "id": "8f99de547b07abe2"
   },
   "source": [
    "#### Scaled Dot Product Attention"
   ]
  },
  {
   "cell_type": "code",
   "id": "7b0f0f610fd6a8ab",
   "metadata": {
    "id": "7b0f0f610fd6a8ab",
    "executionInfo": {
     "status": "ok",
     "timestamp": 1741005638679,
     "user_tz": -480,
     "elapsed": 1,
     "user": {
      "displayName": "Seagal",
      "userId": "11790859596784159614"
     }
    },
    "ExecuteTime": {
     "end_time": "2025-04-10T18:32:27.031668Z",
     "start_time": "2025-04-10T18:32:27.023631Z"
    }
   },
   "source": [
    "from dataclasses import dataclass\n",
    "from typing import Optional, Tuple\n",
    "\n",
    "Tensor = torch.Tensor\n",
    "\n",
    "@dataclass\n",
    "class AttentionOutput:\n",
    "    hidden_states: Tensor  # 注意力层的最终输出\n",
    "    attn_scores: Tensor    # 计算得到的注意力权重\n",
    "\n",
    "class MultiHeadAttention(nn.Module):\n",
    "    def __init__(self, config):\n",
    "        super().__init__()\n",
    "        # 获取配置中的超参数\n",
    "        self.hidden_size = config[\"d_model\"]\n",
    "        self.num_heads = config[\"num_heads\"]\n",
    "\n",
    "        # 确保 hidden_size 可以被 num_heads 整除\n",
    "        assert self.hidden_size % self.num_heads == 0, \"Hidden size must be divisible by num_heads\"\n",
    "\n",
    "        self.head_dim = self.hidden_size // self.num_heads  # 每个头的维度\n",
    "\n",
    "        # 定义线性变换层\n",
    "        self.Wq = nn.Linear(self.hidden_size, self.hidden_size, bias=False)\n",
    "        self.Wk = nn.Linear(self.hidden_size, self.hidden_size, bias=False)\n",
    "        self.Wv = nn.Linear(self.hidden_size, self.hidden_size, bias=False)\n",
    "        self.Wo = nn.Linear(self.hidden_size, self.hidden_size, bias=False)\n",
    "\n",
    "    def _split_heads(self, x: Tensor) -> Tensor:\n",
    "        \"\"\"\n",
    "        将输入张量拆分为多个头\n",
    "        \"\"\"\n",
    "        bs, seq_len, _ = x.shape\n",
    "        x = x.view(bs, seq_len, self.num_heads, self.head_dim)  # 调整形状\n",
    "        return x.permute(0, 2, 1, 3)  # 调整维度顺序\n",
    "\n",
    "    def _merge_heads(self, x: Tensor) -> Tensor:\n",
    "        \"\"\"\n",
    "        合并多个头的输出\n",
    "        \"\"\"\n",
    "        bs, _, seq_len, _ = x.shape\n",
    "        return x.permute(0, 2, 1, 3).reshape(bs, seq_len, self.hidden_size)\n",
    "\n",
    "    def forward(self, querys, keys, values, attn_mask=None) -> AttentionOutput:\n",
    "        \"\"\"\n",
    "        前向传播计算注意力机制\n",
    "        \"\"\"\n",
    "        # 线性变换并拆分为多个头\n",
    "        querys = self._split_heads(self.Wq(querys))  # [batch_size, num_heads, seq_len, head_dim]\n",
    "        keys = self._split_heads(self.Wk(keys))      # [batch_size, num_heads, seq_len, head_dim]\n",
    "        values = self._split_heads(self.Wv(values))  # [batch_size, num_heads, seq_len, head_dim]\n",
    "\n",
    "        # 计算 Q 和 K 之间的点积注意力分数\n",
    "        qk_logits = torch.matmul(querys, keys.mT)  # [batch_size, num_heads, seq_len, seq_len]\n",
    "\n",
    "        # 如果提供了mask，应用它\n",
    "        if attn_mask is not None:\n",
    "            attn_mask = attn_mask[:, :, : querys.shape[-2], : keys.shape[-2]]  # 调整mask的大小\n",
    "            qk_logits += attn_mask * -1e9  # mask部分置为负无穷\n",
    "\n",
    "        # 计算注意力权重\n",
    "        attn_scores = F.softmax(qk_logits / (self.head_dim**0.5), dim=-1)  # [batch_size, num_heads, seq_len, seq_len]\n",
    "\n",
    "        # 加权求和\n",
    "        embeds = torch.matmul(attn_scores, values)  # [batch_size, num_heads, seq_len, head_dim]\n",
    "\n",
    "        # 合并头的输出并通过输出投影层\n",
    "        embeds = self.Wo(self._merge_heads(embeds))  # [batch_size, seq_len, hidden_size]\n",
    "\n",
    "        return AttentionOutput(hidden_states=embeds, attn_scores=attn_scores)"
   ],
   "outputs": [],
   "execution_count": 19
  },
  {
   "cell_type": "markdown",
   "id": "5f1c8ed655b4ba8f",
   "metadata": {
    "id": "5f1c8ed655b4ba8f"
   },
   "source": [
    "#### Transformer Block"
   ]
  },
  {
   "cell_type": "code",
   "id": "315d0c77f5c2652c",
   "metadata": {
    "id": "315d0c77f5c2652c",
    "executionInfo": {
     "status": "ok",
     "timestamp": 1741005638681,
     "user_tz": -480,
     "elapsed": 1,
     "user": {
      "displayName": "Seagal",
      "userId": "11790859596784159614"
     }
    },
    "ExecuteTime": {
     "end_time": "2025-04-10T18:32:27.039065Z",
     "start_time": "2025-04-10T18:32:27.032669Z"
    }
   },
   "source": [
    "@dataclass\n",
    "class TransformerBlockOutput:\n",
    "    # 当前块的输出（隐藏状态）和自/交叉注意力的分数\n",
    "    hidden_states: Tensor\n",
    "    self_attn_scores: Tensor\n",
    "    cross_attn_scores: Optional[Tensor] = None\n",
    "\n",
    "class TransformerBlock(nn.Module):\n",
    "    def __init__(self, config, add_cross_attention=False):\n",
    "        super().__init__()\n",
    "\n",
    "        # 获取配置中的超参数\n",
    "        self.hidden_size = config[\"d_model\"]\n",
    "        self.num_heads = config[\"num_heads\"]\n",
    "        dropout_rate = config[\"dropout\"]\n",
    "        ffn_dim = config[\"dim_feedforward\"]\n",
    "        eps = config[\"layer_norm_eps\"]\n",
    "\n",
    "        # 自注意力机制\n",
    "        self.self_atten = MultiHeadAttention(config)\n",
    "        self.self_ln = nn.LayerNorm(self.hidden_size, eps=eps)\n",
    "        self.self_dropout = nn.Dropout(dropout_rate)\n",
    "\n",
    "        # 交叉注意力机制（仅解码器中使用）\n",
    "        if add_cross_attention:\n",
    "            self.cross_atten = MultiHeadAttention(config)\n",
    "            self.cross_ln = nn.LayerNorm(self.hidden_size, eps=eps)\n",
    "            self.cross_dropout = nn.Dropout(dropout_rate)\n",
    "        else:\n",
    "            self.cross_atten = None\n",
    "\n",
    "        # 前馈神经网络（FFN）\n",
    "        self.ffn = nn.Sequential(\n",
    "            nn.Linear(self.hidden_size, ffn_dim),\n",
    "            nn.ReLU(),\n",
    "            nn.Linear(ffn_dim, self.hidden_size),\n",
    "        )\n",
    "        self.ffn_ln = nn.LayerNorm(self.hidden_size, eps=eps)\n",
    "        self.ffn_dropout = nn.Dropout(dropout_rate)\n",
    "\n",
    "    def forward(self, hidden_states, attn_mask=None, encoder_outputs=None, cross_attn_mask=None):\n",
    "        # 自注意力机制\n",
    "        self_atten_output = self.self_atten(\n",
    "            hidden_states, hidden_states, hidden_states, attn_mask\n",
    "        )\n",
    "        self_embeds = self.self_ln(\n",
    "            hidden_states + self.self_dropout(self_atten_output.hidden_states)\n",
    "        )\n",
    "\n",
    "        # 交叉注意力机制（解码器中）\n",
    "        if self.cross_atten is not None:\n",
    "            assert encoder_outputs is not None  # 使用交叉注意力时，必须传入编码器输出\n",
    "            cross_atten_output = self.cross_atten(\n",
    "                self_embeds, encoder_outputs, encoder_outputs, cross_attn_mask\n",
    "            )\n",
    "            cross_embeds = self.cross_ln(\n",
    "                self_embeds + self.cross_dropout(cross_atten_output.hidden_states)\n",
    "            )\n",
    "\n",
    "        # 前馈神经网络（FFN）\n",
    "        embeds = cross_embeds if self.cross_atten is not None else self_embeds\n",
    "        ffn_output = self.ffn(embeds)\n",
    "        embeds = self.ffn_ln(embeds + self.ffn_dropout(ffn_output))\n",
    "\n",
    "        # 返回 TransformerBlockOutput\n",
    "        return TransformerBlockOutput(\n",
    "            hidden_states=embeds,\n",
    "            self_attn_scores=self_atten_output.attn_scores,\n",
    "            cross_attn_scores=cross_atten_output.attn_scores if self.cross_atten is not None else None,\n",
    "        )"
   ],
   "outputs": [],
   "execution_count": 20
  },
  {
   "cell_type": "markdown",
   "id": "f6c06503b7815611",
   "metadata": {
    "id": "f6c06503b7815611"
   },
   "source": [
    "#### Encoder"
   ]
  },
  {
   "cell_type": "code",
   "id": "70aa1fe1c5d89641",
   "metadata": {
    "id": "70aa1fe1c5d89641",
    "executionInfo": {
     "status": "ok",
     "timestamp": 1741005638682,
     "user_tz": -480,
     "elapsed": 1,
     "user": {
      "displayName": "Seagal",
      "userId": "11790859596784159614"
     }
    },
    "ExecuteTime": {
     "end_time": "2025-04-10T18:32:27.045517Z",
     "start_time": "2025-04-10T18:32:27.040067Z"
    }
   },
   "source": [
    "from typing import List\n",
    "\n",
    "@dataclass  # 存储TransformerEncoder的输出\n",
    "class TransformerEncoderOutput:\n",
    "    last_hidden_states: Tensor  # 最后一层的隐藏状态，包含上下文信息\n",
    "    attn_scores: List[Tensor]   # 每层的注意力分数，用于分析每层的关注点\n",
    "\n",
    "class TransformerEncoder(nn.Module):\n",
    "    def __init__(self, config):\n",
    "        super().__init__()\n",
    "\n",
    "        # 获取编码器层数\n",
    "        self.num_layers = config[\"num_encoder_layers\"]\n",
    "\n",
    "        # 创建包含多个TransformerBlock的列表，每个TransformerBlock代表编码器的一层\n",
    "        self.layers = nn.ModuleList(\n",
    "            [TransformerBlock(config) for _ in range(self.num_layers)]\n",
    "        )\n",
    "\n",
    "    def forward(self, encoder_inputs_embeds, attn_mask=None) -> TransformerEncoderOutput:\n",
    "        attn_scores = []  # 存储每层的自注意力分数\n",
    "        embeds = encoder_inputs_embeds  # 输入嵌入作为编码器的第一层输入\n",
    "\n",
    "        # 遍历每一层TransformerBlock\n",
    "        for layer in self.layers:\n",
    "            block_outputs = layer(embeds, attn_mask=attn_mask)  # 当前层输出\n",
    "\n",
    "            embeds = block_outputs.hidden_states  # 更新下一层输入\n",
    "            attn_scores.append(block_outputs.self_attn_scores)  # 保存注意力分数\n",
    "\n",
    "        # 返回最后一层输出和所有层的注意力分数\n",
    "        return TransformerEncoderOutput(\n",
    "            last_hidden_states=embeds,  # 最后一层的输出\n",
    "            attn_scores=attn_scores  # 所有层的注意力分数\n",
    "        )"
   ],
   "outputs": [],
   "execution_count": 21
  },
  {
   "cell_type": "markdown",
   "id": "138185edf3d182fa",
   "metadata": {
    "id": "138185edf3d182fa"
   },
   "source": [
    "#### Decoder"
   ]
  },
  {
   "cell_type": "code",
   "id": "40b6404562f388b9",
   "metadata": {
    "id": "40b6404562f388b9",
    "executionInfo": {
     "status": "ok",
     "timestamp": 1741005638685,
     "user_tz": -480,
     "elapsed": 2,
     "user": {
      "displayName": "Seagal",
      "userId": "11790859596784159614"
     }
    },
    "ExecuteTime": {
     "end_time": "2025-04-10T18:32:27.052476Z",
     "start_time": "2025-04-10T18:32:27.046519Z"
    }
   },
   "source": [
    "@dataclass\n",
    "class TransformerDecoderOutput:\n",
    "    last_hidden_states: Tensor  # 最后一层的隐藏状态\n",
    "    self_attn_scores: List[Tensor]  # 每层的自注意力分数\n",
    "    cross_attn_scores: List[Tensor]  # 每层的交叉注意力分数\n",
    "\n",
    "class TransformerDecoder(nn.Module):\n",
    "    def __init__(self, config):\n",
    "        super().__init__()\n",
    "\n",
    "        # 获取解码器层数\n",
    "        self.num_layers = config[\"num_decoder_layers\"]\n",
    "\n",
    "        # 创建多个TransformerBlock，每层都有交叉注意力机制\n",
    "        self.layers = nn.ModuleList(\n",
    "            [TransformerBlock(config, add_cross_attention=True) for _ in range(self.num_layers)]\n",
    "        )\n",
    "\n",
    "    def forward(self, decoder_inputs_embeds, encoder_outputs, attn_mask=None, cross_attn_mask=None) -> TransformerDecoderOutput:\n",
    "        self_attn_scores = []  # 存储每层的自注意力分数\n",
    "        cross_attn_scores = []  # 存储每层的交叉注意力分数\n",
    "        embeds = decoder_inputs_embeds  # 解码器输入嵌入\n",
    "\n",
    "        # 遍历每一层的TransformerBlock\n",
    "        for layer in self.layers:\n",
    "            # 前向传播，通过自注意力和交叉注意力机制\n",
    "            block_outputs = layer(\n",
    "                embeds,\n",
    "                attn_mask=attn_mask,\n",
    "                encoder_outputs=encoder_outputs,\n",
    "                cross_attn_mask=cross_attn_mask,\n",
    "            )\n",
    "            embeds = block_outputs.hidden_states  # 更新输入为当前层输出\n",
    "\n",
    "            self_attn_scores.append(block_outputs.self_attn_scores)  # 保存自注意力分数\n",
    "            cross_attn_scores.append(block_outputs.cross_attn_scores)  # 保存交叉注意力分数\n",
    "\n",
    "        # 返回最后一层的隐藏状态和每层的注意力分数\n",
    "        return TransformerDecoderOutput(\n",
    "            last_hidden_states=embeds,\n",
    "            self_attn_scores=self_attn_scores,\n",
    "            cross_attn_scores=cross_attn_scores\n",
    "        )"
   ],
   "outputs": [],
   "execution_count": 22
  },
  {
   "cell_type": "markdown",
   "id": "face90cdad3c5be4",
   "metadata": {
    "id": "face90cdad3c5be4"
   },
   "source": [
    "#### Mask"
   ]
  },
  {
   "cell_type": "code",
   "id": "c5e236846488087b",
   "metadata": {
    "id": "c5e236846488087b",
    "executionInfo": {
     "status": "ok",
     "timestamp": 1741005638719,
     "user_tz": -480,
     "elapsed": 33,
     "user": {
      "displayName": "Seagal",
      "userId": "11790859596784159614"
     }
    },
    "ExecuteTime": {
     "end_time": "2025-04-10T18:32:27.057241Z",
     "start_time": "2025-04-10T18:32:27.053477Z"
    }
   },
   "source": [
    "def generate_square_subsequent_mask(sz: int) -> Tensor:\n",
    "    \"\"\"\n",
    "    生成方形的后续掩码，屏蔽掉当前及之前的元素。\n",
    "    掩码位置为 True，未屏蔽的为 False。\n",
    "    \"\"\"\n",
    "    # 创建上三角矩阵并取反，形成掩码\n",
    "    mask = (torch.triu(torch.ones(sz, sz)) == 0).transpose(-1, -2).bool()\n",
    "    return mask"
   ],
   "outputs": [],
   "execution_count": 23
  },
  {
   "cell_type": "markdown",
   "id": "954c5e61eaa76cbc",
   "metadata": {
    "id": "954c5e61eaa76cbc"
   },
   "source": [
    "#### Transformer Model"
   ]
  },
  {
   "cell_type": "code",
   "id": "ce5c0ec31017265f",
   "metadata": {
    "id": "ce5c0ec31017265f",
    "executionInfo": {
     "status": "ok",
     "timestamp": 1741005638722,
     "user_tz": -480,
     "elapsed": 1,
     "user": {
      "displayName": "Seagal",
      "userId": "11790859596784159614"
     }
    },
    "ExecuteTime": {
     "end_time": "2025-04-10T18:32:27.071307Z",
     "start_time": "2025-04-10T18:32:27.058243Z"
    }
   },
   "source": [
    "@dataclass\n",
    "class TransformerOutput:\n",
    "    logits: Tensor  # 模型的预测输出 logits\n",
    "    encoder_last_hidden_states: Tensor  # 编码器的最终隐藏状态\n",
    "    encoder_attn_scores: List[Tensor]  # 编码器各层的自注意力得分\n",
    "    decoder_last_hidden_states: Tensor  # 解码器的最终隐藏状态\n",
    "    decoder_self_attn_scores: List[Tensor]  # 解码器自注意力得分\n",
    "    decoder_cross_attn_scores: List[Tensor]  # 解码器交叉注意力得分\n",
    "    preds: Optional[Tensor] = None  # 推理时的预测结果\n",
    "\n",
    "class TransformerModel(nn.Module):\n",
    "    def __init__(self, config):\n",
    "        super().__init__()\n",
    "        # 模型的各项配置初始化\n",
    "        self.hidden_size = config[\"d_model\"]  # Transformer模型中的隐藏层维度\n",
    "        self.num_encoder_layers = config[\"num_encoder_layers\"]  # 编码器层数\n",
    "        self.num_decoder_layers = config[\"num_decoder_layers\"]  # 解码器层数\n",
    "        self.pad_idx = config[\"pad_idx\"]  # padding 标记的索引\n",
    "        self.bos_idx = config[\"bos_idx\"]  # 句子开始标记的索引\n",
    "        self.eos_idx = config[\"eos_idx\"]  # 句子结束标记的索引\n",
    "        self.en_vocab_size = config[\"en_vocab_size\"]  # 英文词表大小\n",
    "        self.zh_vocab_size = config[\"zh_vocab_size\"]  # 中文词表大小\n",
    "        self.dropout_rate = config[\"dropout\"]  # Dropout比例\n",
    "        self.max_length = config[\"max_length\"]  # 最大序列长度\n",
    "\n",
    "        # 初始化源语言(中文))和目标语言(英文)的嵌入层\n",
    "        self.src_embedding = TransformerEmbedding(config, vocab_size=self.zh_vocab_size)\n",
    "        self.trg_embedding = TransformerEmbedding(config, vocab_size=self.en_vocab_size)\n",
    "\n",
    "        # 输出层的线性变换，输出的维度为中文词表大小\n",
    "        self.linear = nn.Linear(self.hidden_size, self.en_vocab_size)\n",
    "\n",
    "        # 初始化编码器和解码器\n",
    "        self.encoder = TransformerEncoder(config)\n",
    "        self.decoder = TransformerDecoder(config)\n",
    "\n",
    "        # 权重初始化\n",
    "        self._init_weights()\n",
    "\n",
    "    def _init_weights(self):\n",
    "        \"\"\"初始化网络权重\"\"\"\n",
    "        for p in self.parameters():\n",
    "            if p.dim() > 1:\n",
    "                # 使用 Xavier 均匀分布初始化权重\n",
    "                nn.init.xavier_uniform_(p)\n",
    "\n",
    "    def generate_square_subsequent_mask(self, sz: int) -> Tensor:\n",
    "        \"\"\"生成解码器的下三角掩码，用于自回归解码\"\"\"\n",
    "        mask = (torch.triu(torch.ones(sz, sz)) == 0).transpose(-1, -2).bool()  # 下三角掩码\n",
    "        return mask\n",
    "\n",
    "    def forward(self, encoder_inputs, decoder_inputs, encoder_inputs_mask=None) -> TransformerOutput:\n",
    "        \"\"\"\n",
    "        Transformer前向传播\n",
    "        1. 将输入的源语言和目标语言进行嵌入。\n",
    "        2. 通过编码器处理源语言输入。\n",
    "        3. 通过解码器生成目标语言的输出。\n",
    "        \"\"\"\n",
    "        if encoder_inputs_mask is None:\n",
    "            # 如果没有提供mask，则根据padding索引生成\n",
    "            encoder_inputs_mask = encoder_inputs.eq(self.pad_idx)\n",
    "        encoder_inputs_mask = encoder_inputs_mask.unsqueeze(1).unsqueeze(2)  # 扩展mask维度，以适应多头注意力\n",
    "\n",
    "        # 生成解码器掩码（防止信息泄漏）\n",
    "        look_ahead_mask = self.generate_square_subsequent_mask(decoder_inputs.shape[1]).unsqueeze(0).unsqueeze(0).to(decoder_inputs.device)\n",
    "        decoder_inputs_mask = decoder_inputs.eq(self.pad_idx).unsqueeze(1).unsqueeze(2) + look_ahead_mask\n",
    "\n",
    "        # 编码阶段：将源语言输入映射到嵌入空间\n",
    "        encoder_inputs_embeds = self.src_embedding(encoder_inputs)\n",
    "        encoder_outputs = self.encoder(encoder_inputs_embeds, encoder_inputs_mask)\n",
    "\n",
    "        # 解码阶段：将目标语言输入映射到嵌入空间\n",
    "        decoder_inputs_embeds = self.trg_embedding(decoder_inputs)\n",
    "        decoder_outputs = self.decoder(\n",
    "            decoder_inputs_embeds=decoder_inputs_embeds,\n",
    "            encoder_outputs=encoder_outputs.last_hidden_states,\n",
    "            attn_mask=decoder_inputs_mask,\n",
    "            cross_attn_mask=encoder_inputs_mask,\n",
    "        )\n",
    "\n",
    "        # 将解码器的输出通过线性变换映射到目标语言的词表大小\n",
    "        logits = self.linear(decoder_outputs.last_hidden_states)\n",
    "\n",
    "        return TransformerOutput(\n",
    "            logits=logits,\n",
    "            encoder_last_hidden_states=encoder_outputs.last_hidden_states,\n",
    "            encoder_attn_scores=encoder_outputs.attn_scores,\n",
    "            decoder_last_hidden_states=decoder_outputs.last_hidden_states,\n",
    "            decoder_self_attn_scores=decoder_outputs.self_attn_scores,\n",
    "            decoder_cross_attn_scores=decoder_outputs.cross_attn_scores,\n",
    "        )\n",
    "\n",
    "    @torch.no_grad()\n",
    "    def infer(self, encoder_inputs, encoder_inputs_mask=None) -> Tensor:\n",
    "        \"\"\"推理：生成目标语言的翻译结果\"\"\"\n",
    "        if encoder_inputs_mask is None:\n",
    "            encoder_inputs_mask = encoder_inputs.eq(self.pad_idx)  # 根据padding生成mask\n",
    "        encoder_inputs_mask = encoder_inputs_mask.unsqueeze(1).unsqueeze(2)\n",
    "\n",
    "        # 生成解码器的掩码（自回归）\n",
    "        look_ahead_mask = self.generate_square_subsequent_mask(self.max_length).unsqueeze(0).unsqueeze(0).to(encoder_inputs.device)\n",
    "\n",
    "        # 编码阶段\n",
    "        encoder_inputs_embeds = self.src_embedding(encoder_inputs)\n",
    "        encoder_outputs = self.encoder(encoder_inputs_embeds)\n",
    "\n",
    "        # 解码阶段：生成目标语言翻译\n",
    "        decoder_inputs = torch.Tensor([self.bos_idx] * encoder_inputs.shape[0]).reshape(-1, 1).long().to(device=encoder_inputs.device)\n",
    "        for cur_len in tqdm(range(1, self.max_length + 1)):\n",
    "            decoder_inputs_embeds = self.trg_embedding(decoder_inputs)\n",
    "            decoder_outputs = self.decoder(\n",
    "                decoder_inputs_embeds=decoder_inputs_embeds,\n",
    "                encoder_outputs=encoder_outputs.last_hidden_states,\n",
    "                attn_mask=look_ahead_mask[:, :, :cur_len, :cur_len],\n",
    "            )\n",
    "            logits = self.linear(decoder_outputs.last_hidden_states)\n",
    "            next_token = logits.argmax(dim=-1)[:, -1:]  # 选择下一个最可能的token\n",
    "            decoder_inputs = torch.cat([decoder_inputs, next_token], dim=-1)  # 将token加入解码输入中\n",
    "\n",
    "            # 如果所有样本的解码器输出达到结束标记，则停止解码\n",
    "            if all((decoder_inputs == self.eos_idx).sum(dim=-1) > 0):\n",
    "                break\n",
    "\n",
    "        return TransformerOutput(\n",
    "            preds=decoder_inputs[:, 1:],  # 排除开始标记，返回最终的预测结果\n",
    "            logits=logits,\n",
    "            encoder_last_hidden_states=encoder_outputs.last_hidden_states,\n",
    "            encoder_attn_scores=encoder_outputs.attn_scores,\n",
    "            decoder_last_hidden_states=decoder_outputs.last_hidden_states,\n",
    "            decoder_self_attn_scores=decoder_outputs.self_attn_scores,\n",
    "            decoder_cross_attn_scores=decoder_outputs.cross_attn_scores,\n",
    "        )"
   ],
   "outputs": [],
   "execution_count": 24
  },
  {
   "cell_type": "markdown",
   "id": "7ae5abc23f074b90",
   "metadata": {
    "id": "7ae5abc23f074b90"
   },
   "source": [
    "## 训练"
   ]
  },
  {
   "cell_type": "markdown",
   "id": "a073af9cd4ae401b",
   "metadata": {
    "id": "a073af9cd4ae401b"
   },
   "source": [
    " ### 损失函数"
   ]
  },
  {
   "cell_type": "code",
   "id": "ae5ea38f3d17d722",
   "metadata": {
    "id": "ae5ea38f3d17d722",
    "executionInfo": {
     "status": "ok",
     "timestamp": 1741005638723,
     "user_tz": -480,
     "elapsed": 1,
     "user": {
      "displayName": "Seagal",
      "userId": "11790859596784159614"
     }
    },
    "ExecuteTime": {
     "end_time": "2025-04-10T18:32:27.076316Z",
     "start_time": "2025-04-10T18:32:27.072310Z"
    }
   },
   "source": [
    "class CrossEntropyWithPadding:\n",
    "    def __init__(self, config):\n",
    "        # 读取标签平滑参数\n",
    "        self.label_smoothing = config[\"label_smoothing\"]\n",
    "\n",
    "    def __call__(self, logits, labels, padding_mask=None):\n",
    "        bs, seq_len, nc = logits.shape  # 获取批次大小、序列长度和类别数\n",
    "\n",
    "        # 计算交叉熵损失，并应用标签平滑\n",
    "        loss = F.cross_entropy(logits.reshape(bs * seq_len, nc), labels.reshape(-1), reduction='none', label_smoothing=self.label_smoothing)\n",
    "\n",
    "        if padding_mask is None:\n",
    "            loss = loss.mean()  # 无padding时，返回平均损失\n",
    "        else:\n",
    "            # 处理padding掩码，忽略padding部分的损失\n",
    "            padding_mask = 1 - padding_mask.reshape(-1)\n",
    "            loss = torch.mul(loss, padding_mask).sum() / padding_mask.sum()  # 加权损失计算\n",
    "\n",
    "        return loss  # 返回损失值"
   ],
   "outputs": [],
   "execution_count": 25
  },
  {
   "cell_type": "markdown",
   "id": "649a38404d094bb9",
   "metadata": {
    "id": "649a38404d094bb9"
   },
   "source": [
    "### 学习率衰减"
   ]
  },
  {
   "cell_type": "code",
   "id": "21206e2a73781aac",
   "metadata": {
    "id": "21206e2a73781aac",
    "executionInfo": {
     "status": "ok",
     "timestamp": 1741005638725,
     "user_tz": -480,
     "elapsed": 1,
     "user": {
      "displayName": "Seagal",
      "userId": "11790859596784159614"
     }
    },
    "ExecuteTime": {
     "end_time": "2025-04-10T18:32:27.080445Z",
     "start_time": "2025-04-10T18:32:27.076316Z"
    }
   },
   "source": [
    "class NoamDecayScheduler:\n",
    "    def __init__(self, config):\n",
    "        # 初始化，获取模型维度和预热步数\n",
    "        self.d_model = config[\"d_model\"]\n",
    "        self.warmup_steps = config[\"warmup_steps\"]\n",
    "\n",
    "    def __call__(self, step):\n",
    "        step += 1\n",
    "        arg1 = step ** (-0.5)  # 步数的衰减因子\n",
    "        arg2 = step * (self.warmup_steps ** (-1.5))  # 预热阶段的衰减因子\n",
    "        arg3 = self.d_model ** (-0.5)  # 模型维度的衰减因子\n",
    "\n",
    "        return arg3 * np.minimum(arg1, arg2)  # 返回衰减后的学习率\n",
    "\n",
    "# 创建一个实例\n",
    "temp_learning_rate_schedule = NoamDecayScheduler({\"d_model\": 512, \"warmup_steps\": 7000})"
   ],
   "outputs": [],
   "execution_count": 26
  },
  {
   "cell_type": "code",
   "id": "265b7b712040e2c5",
   "metadata": {
    "colab": {
     "base_uri": "https://localhost:8080/",
     "height": 1000
    },
    "executionInfo": {
     "elapsed": 392,
     "status": "ok",
     "timestamp": 1741005639118,
     "user": {
      "displayName": "Seagal",
      "userId": "11790859596784159614"
     },
     "user_tz": -480
    },
    "id": "265b7b712040e2c5",
    "outputId": "043ec549-a359-439a-83bd-46cd4e5e63b2",
    "ExecuteTime": {
     "end_time": "2025-04-10T18:32:27.159364Z",
     "start_time": "2025-04-10T18:32:27.081448Z"
    }
   },
   "source": [
    "# 例子：下面是学习率的设计图\n",
    "plt.plot(temp_learning_rate_schedule(np.arange(0, 40000)))\n",
    "plt.ylabel(\"Leraning rate\")\n",
    "plt.xlabel(\"Train step\")\n",
    "plt.show()"
   ],
   "outputs": [
    {
     "data": {
      "text/plain": [
       "<Figure size 640x480 with 1 Axes>"
      ],
      "image/png": "[encoded data removed]"
     },
     "metadata": {},
     "output_type": "display_data"
    }
   ],
   "execution_count": 27
  },
  {
   "cell_type": "markdown",
   "id": "acc577fe2fa11ec6",
   "metadata": {
    "id": "acc577fe2fa11ec6"
   },
   "source": [
    "### 优化器"
   ]
  },
  {
   "cell_type": "code",
   "id": "57219a296d6cb65f",
   "metadata": {
    "id": "57219a296d6cb65f",
    "executionInfo": {
     "status": "ok",
     "timestamp": 1741005639120,
     "user_tz": -480,
     "elapsed": 1,
     "user": {
      "displayName": "Seagal",
      "userId": "11790859596784159614"
     }
    },
    "ExecuteTime": {
     "end_time": "2025-04-10T18:32:27.164558Z",
     "start_time": "2025-04-10T18:32:27.160377Z"
    }
   },
   "source": [
    "from torch.optim.lr_scheduler import LambdaLR\n",
    "from torch.optim import Adam\n",
    "\n",
    "def get_optimizer(model, config):\n",
    "    base_lr = 0.1\n",
    "    beta1 = config[\"beta1\"]  # Adam 的 beta1\n",
    "    beta2 = config[\"beta2\"]  # Adam 的 beta2\n",
    "    eps = config[\"eps\"]\n",
    "\n",
    "    # 初始化Adam优化器\n",
    "    optimizer = Adam(model.parameters(), lr=base_lr, betas=(beta1, beta2), eps=eps)\n",
    "\n",
    "    # 初始化学习率调度器\n",
    "    lr_scheduler = NoamDecayScheduler(config)\n",
    "\n",
    "    # 使用 LambdaLR 调度器调整学习率\n",
    "    scheduler = LambdaLR(optimizer, lr_lambda=lr_scheduler)\n",
    "\n",
    "    return optimizer, scheduler"
   ],
   "outputs": [],
   "execution_count": 28
  },
  {
   "cell_type": "markdown",
   "id": "a606a4c9a6ac909d",
   "metadata": {
    "id": "a606a4c9a6ac909d"
   },
   "source": [
    "### Callback"
   ]
  },
  {
   "cell_type": "raw",
   "id": "b6cff03b87ef9497",
   "metadata": {
    "id": "b6cff03b87ef9497"
   },
   "source": [
    "训练过程中可以使用如下命令启动tensorboard服务。\n",
    "tensorboard --logdir=G:\\conference-text-translation-transformer\\ConfTrans\\runs --host 0.0.0.0 --port 8848\n",
    "python -m tensorboard.main --logdir=G:\\conference-text-translation-transformer\\ConfTrans\\runs --host localhost --port 8848"
   ]
  },
  {
   "cell_type": "code",
   "id": "54d5e212280338b1",
   "metadata": {
    "id": "54d5e212280338b1",
    "executionInfo": {
     "status": "ok",
     "timestamp": 1741005639122,
     "user_tz": -480,
     "elapsed": 1,
     "user": {
      "displayName": "Seagal",
      "userId": "11790859596784159614"
     }
    },
    "ExecuteTime": {
     "end_time": "2025-04-10T18:32:30.583663Z",
     "start_time": "2025-04-10T18:32:27.165561Z"
    }
   },
   "source": [
    "from torch.utils.tensorboard import SummaryWriter\n",
    "\n",
    "\n",
    "class TensorBoardCallback:\n",
    "    def __init__(self, log_dir, flush_secs=10):\n",
    "        \"\"\"\n",
    "        Args:\n",
    "            log_dir (str): dir to write log.\n",
    "            flush_secs (int, optional): write to dsk each flush_secs seconds. Defaults to 10.\n",
    "        \"\"\"\n",
    "        self.writer = SummaryWriter(log_dir=log_dir, flush_secs=flush_secs)\n",
    "\n",
    "    def draw_model(self, model, input_shape):\n",
    "        self.writer.add_graph(model, input_to_model=torch.randn(input_shape))\n",
    "\n",
    "    def add_loss_scalars(self, step, loss, val_loss):\n",
    "        self.writer.add_scalars(\n",
    "            main_tag=\"training/loss\",\n",
    "            tag_scalar_dict={\"loss\": loss, \"val_loss\": val_loss},\n",
    "            global_step=step,\n",
    "            )\n",
    "\n",
    "    def add_acc_scalars(self, step, acc, val_acc):\n",
    "        self.writer.add_scalars(\n",
    "            main_tag=\"training/accuracy\",\n",
    "            tag_scalar_dict={\"accuracy\": acc, \"val_accuracy\": val_acc},\n",
    "            global_step=step,\n",
    "        )\n",
    "\n",
    "    def add_lr_scalars(self, step, learning_rate):\n",
    "        self.writer.add_scalars(\n",
    "            main_tag=\"training/learning_rate\",\n",
    "            tag_scalar_dict={\"learning_rate\": learning_rate},\n",
    "            global_step=step,\n",
    "\n",
    "        )\n",
    "\n",
    "    def __call__(self, step, **kwargs):\n",
    "        # add loss\n",
    "        loss = kwargs.pop(\"loss\", None)\n",
    "        val_loss = kwargs.pop(\"val_loss\", None)\n",
    "        if loss is not None and val_loss is not None:\n",
    "            self.add_loss_scalars(step, loss, val_loss)\n",
    "        # add acc\n",
    "        acc = kwargs.pop(\"acc\", None)\n",
    "        val_acc = kwargs.pop(\"val_acc\", None)\n",
    "        if acc is not None and val_acc is not None:\n",
    "            self.add_acc_scalars(step, acc, val_acc)\n",
    "        # add lr\n",
    "        learning_rate = kwargs.pop(\"lr\", None)\n",
    "        if learning_rate is not None:\n",
    "            self.add_lr_scalars(step, learning_rate)"
   ],
   "outputs": [],
   "execution_count": 29
  },
  {
   "cell_type": "code",
   "id": "671b8f33f2112547",
   "metadata": {
    "id": "671b8f33f2112547",
    "executionInfo": {
     "status": "ok",
     "timestamp": 1741005639124,
     "user_tz": -480,
     "elapsed": 1,
     "user": {
      "displayName": "Seagal",
      "userId": "11790859596784159614"
     }
    },
    "ExecuteTime": {
     "end_time": "2025-04-10T18:32:30.588607Z",
     "start_time": "2025-04-10T18:32:30.584667Z"
    }
   },
   "source": [
    "class SaveCheckpointsCallback:\n",
    "    def __init__(self, save_dir, save_step=5000, save_best_only=True):\n",
    "        \"\"\"\n",
    "        Save checkpoints each save_epoch epoch.\n",
    "        We save checkpoint by epoch in this implementation.\n",
    "        Usually, training scripts with pytorch evaluating model and save checkpoint by step.\n",
    "\n",
    "        Args:\n",
    "            save_dir (str): dir to save checkpoint\n",
    "            save_epoch (int, optional): the frequency to save checkpoint. Defaults to 1.\n",
    "            save_best_only (bool, optional): If True, only save the best model or save each model at every epoch.\n",
    "        \"\"\"\n",
    "        self.save_dir = save_dir\n",
    "        self.save_step = save_step\n",
    "        self.save_best_only = save_best_only\n",
    "        self.best_metrics = - np.inf\n",
    "\n",
    "        # mkdir\n",
    "        if not os.path.exists(self.save_dir):\n",
    "            os.mkdir(self.save_dir)\n",
    "\n",
    "    def __call__(self, step, state_dict, metric=None):\n",
    "        if step % self.save_step > 0:\n",
    "            return\n",
    "\n",
    "        if self.save_best_only:\n",
    "            assert metric is not None\n",
    "            if metric >= self.best_metrics:\n",
    "                # save checkpoints\n",
    "                torch.save(state_dict, os.path.join(self.save_dir, \"best.ckpt\"))\n",
    "                # update best metrics\n",
    "                self.best_metrics = metric\n",
    "        else:\n",
    "            torch.save(state_dict, os.path.join(self.save_dir, f\"{step}.ckpt\"))"
   ],
   "outputs": [],
   "execution_count": 30
  },
  {
   "cell_type": "code",
   "id": "54d7f60ecbb77331",
   "metadata": {
    "id": "54d7f60ecbb77331",
    "executionInfo": {
     "status": "ok",
     "timestamp": 1741005639125,
     "user_tz": -480,
     "elapsed": 1,
     "user": {
      "displayName": "Seagal",
      "userId": "11790859596784159614"
     }
    },
    "ExecuteTime": {
     "end_time": "2025-04-10T18:32:30.592496Z",
     "start_time": "2025-04-10T18:32:30.588607Z"
    }
   },
   "source": [
    "class EarlyStopCallback:\n",
    "    def __init__(self, patience=5, min_delta=0.01):\n",
    "        \"\"\"\n",
    "\n",
    "        Args:\n",
    "            patience (int, optional): Number of epochs with no improvement after which training will be stopped.. Defaults to 5.\n",
    "            min_delta (float, optional): Minimum change in the monitored quantity to qualify as an improvement, i.e. an absolute\n",
    "                change of less than min_delta, will count as no improvement. Defaults to 0.01.\n",
    "        \"\"\"\n",
    "        self.patience = patience\n",
    "        self.min_delta = min_delta\n",
    "        self.best_metric = - np.inf\n",
    "        self.counter = 0\n",
    "\n",
    "    def __call__(self, metric):\n",
    "        if metric >= self.best_metric + self.min_delta:\n",
    "            # update best metric\n",
    "            self.best_metric = metric\n",
    "            # reset counter\n",
    "            self.counter = 0\n",
    "        else:\n",
    "            self.counter += 1\n",
    "\n",
    "    @property\n",
    "    def early_stop(self):\n",
    "        return self.counter >= self.patience\n"
   ],
   "outputs": [],
   "execution_count": 31
  },
  {
   "cell_type": "markdown",
   "id": "424244df0f980222",
   "metadata": {
    "id": "424244df0f980222"
   },
   "source": [
    "### Training and Evaluation"
   ]
  },
  {
   "cell_type": "code",
   "id": "8c355fdf1c702f4b",
   "metadata": {
    "id": "8c355fdf1c702f4b",
    "executionInfo": {
     "status": "ok",
     "timestamp": 1741005639127,
     "user_tz": -480,
     "elapsed": 1,
     "user": {
      "displayName": "Seagal",
      "userId": "11790859596784159614"
     }
    },
    "ExecuteTime": {
     "end_time": "2025-04-10T18:32:30.596411Z",
     "start_time": "2025-04-10T18:32:30.592496Z"
    }
   },
   "source": [
    "@torch.no_grad()\n",
    "def evaluating(model, dataloader, loss_fct):\n",
    "    loss_list = []\n",
    "    for batch in dataloader:\n",
    "        encoder_inputs = batch[\"encoder_inputs\"]\n",
    "        encoder_inputs_mask = batch[\"encoder_inputs_mask\"]\n",
    "        decoder_inputs = batch[\"decoder_inputs\"]\n",
    "        decoder_labels = batch[\"decoder_labels\"]\n",
    "        decoder_labels_mask = batch[\"decoder_labels_mask\"]\n",
    "\n",
    "        # 前向计算\n",
    "        outputs = model(\n",
    "            encoder_inputs=encoder_inputs,\n",
    "            decoder_inputs=decoder_inputs,\n",
    "            encoder_inputs_mask=encoder_inputs_mask\n",
    "        )\n",
    "        logits = outputs.logits\n",
    "\n",
    "        # 计算损失\n",
    "        loss = loss_fct(logits, decoder_labels, padding_mask=decoder_labels_mask)\n",
    "        loss_list.append(loss.cpu().item())\n",
    "\n",
    "    return np.mean(loss_list)  # 返回平均损失"
   ],
   "outputs": [],
   "execution_count": 32
  },
  {
   "cell_type": "code",
   "id": "172f33f11b543d77",
   "metadata": {
    "id": "172f33f11b543d77",
    "executionInfo": {
     "status": "ok",
     "timestamp": 1741005639129,
     "user_tz": -480,
     "elapsed": 2,
     "user": {
      "displayName": "Seagal",
      "userId": "11790859596784159614"
     }
    },
    "ExecuteTime": {
     "end_time": "2025-04-10T18:32:30.602774Z",
     "start_time": "2025-04-10T18:32:30.596411Z"
    }
   },
   "source": [
    "# 训练\n",
    "def training(\n",
    "    model,\n",
    "    train_dl,\n",
    "    val_dl,\n",
    "    epoch,\n",
    "    loss_fct,\n",
    "    optimizer,\n",
    "    scheduler=None,\n",
    "    tensorboard_callback=None,\n",
    "    save_ckpt_callback=None,\n",
    "    early_stop_callback=None,\n",
    "    eval_step=500,\n",
    "    ):\n",
    "    record_dict = {\n",
    "        \"train\": [],\n",
    "        \"val\": []\n",
    "    }\n",
    "\n",
    "    val_loss = 0.0\n",
    "    global_step = 1\n",
    "    model.train()\n",
    "    with tqdm(total=epoch * len(train_dl)) as pbar:\n",
    "        for epoch_id in range(epoch):\n",
    "            # training\n",
    "            for batch in train_dl:\n",
    "                encoder_inputs = batch[\"encoder_inputs\"]\n",
    "                encoder_inputs_mask = batch[\"encoder_inputs_mask\"]\n",
    "                decoder_inputs = batch[\"decoder_inputs\"]\n",
    "                decoder_labels = batch[\"decoder_labels\"]\n",
    "                decoder_labels_mask = batch[\"decoder_labels_mask\"]\n",
    "                # 梯度清空\n",
    "                optimizer.zero_grad()\n",
    "\n",
    "                # 前向计算\n",
    "                outputs = model(\n",
    "                    encoder_inputs=encoder_inputs,\n",
    "                    decoder_inputs=decoder_inputs,\n",
    "                    encoder_inputs_mask=encoder_inputs_mask\n",
    "                    )\n",
    "                logits = outputs.logits\n",
    "                loss = loss_fct(logits, decoder_labels, padding_mask=decoder_labels_mask)\n",
    "\n",
    "                # 梯度回传\n",
    "                loss.backward()\n",
    "\n",
    "                # 调整优化器，包括学习率的变动等\n",
    "                optimizer.step()\n",
    "                if scheduler is not None:\n",
    "                    scheduler.step() # 更新学习率\n",
    "\n",
    "                loss = loss.cpu().item()\n",
    "                # record\n",
    "                record_dict[\"train\"].append({\n",
    "                    \"loss\": loss, \"step\": global_step\n",
    "                })\n",
    "\n",
    "                # evaluating\n",
    "                if global_step % eval_step == 0:\n",
    "                    model.eval()\n",
    "                    val_loss = evaluating(model, val_dl, loss_fct)\n",
    "                    record_dict[\"val\"].append({\n",
    "                        \"loss\": val_loss, \"step\": global_step\n",
    "                    })\n",
    "                    model.train()\n",
    "\n",
    "                    # 1. 使用 tensorboard 可视化\n",
    "                    cur_lr = optimizer.param_groups[0][\"lr\"] if scheduler is None else scheduler.get_last_lr()[0]\n",
    "                    if tensorboard_callback is not None:\n",
    "                        tensorboard_callback(\n",
    "                            global_step,\n",
    "                            loss=loss, val_loss=val_loss,\n",
    "                            lr=cur_lr,\n",
    "                            )\n",
    "\n",
    "                    # 2. 保存模型权重 save model checkpoint\n",
    "                    if save_ckpt_callback is not None:\n",
    "                        save_ckpt_callback(global_step, model.state_dict(), metric=-val_loss)\n",
    "\n",
    "                    # 3. 早停 Early Stop\n",
    "                    if early_stop_callback is not None:\n",
    "                        early_stop_callback(-val_loss)\n",
    "                        if early_stop_callback.early_stop:\n",
    "                            print(f\"Early stop at epoch {epoch_id} / global_step {global_step}\")\n",
    "                            return record_dict\n",
    "\n",
    "                # udate step\n",
    "                global_step += 1\n",
    "                pbar.update(1)\n",
    "            pbar.set_postfix({\"epoch\": epoch_id, \"loss\": loss, \"val_loss\": val_loss})\n",
    "\n",
    "    return record_dict"
   ],
   "outputs": [],
   "execution_count": 33
  },
  {
   "cell_type": "markdown",
   "id": "bcc0b43b76c9975c",
   "metadata": {
    "id": "bcc0b43b76c9975c"
   },
   "source": [
    "### Config"
   ]
  },
  {
   "cell_type": "code",
   "id": "5b30ebeb8dd189ca",
   "metadata": {
    "colab": {
     "base_uri": "https://localhost:8080/"
    },
    "executionInfo": {
     "elapsed": 1079,
     "status": "ok",
     "timestamp": 1741005640208,
     "user": {
      "displayName": "Seagal",
      "userId": "11790859596784159614"
     },
     "user_tz": -480
    },
    "id": "5b30ebeb8dd189ca",
    "outputId": "525b2a92-b296-42fc-87ea-29efbea83db2",
    "ExecuteTime": {
     "end_time": "2025-04-10T18:32:31.724811Z",
     "start_time": "2025-04-10T18:32:30.603776Z"
    }
   },
   "source": [
    "# 配置模型的超参数\n",
    "config = {\n",
    "    \"bos_idx\": 1,  # 句子起始标记 (Beginning of Sentence)\n",
    "    \"eos_idx\": 3,  # 句子结束标记 (End of Sentence)\n",
    "    \"pad_idx\": 0,  # 填充标记 (Padding Index)\n",
    "    \"en_vocab_size\": len(en_word2idx),  # 英文词表大小\n",
    "    \"zh_vocab_size\": len(zh_word2idx),  # 中文词表大小\n",
    "    \"max_length\": 128,  # 句子最大长度\n",
    "    \"d_model\": 512,  # Transformer 词向量的维度\n",
    "    \"dim_feedforward\": 2048,  # 前馈神经网络（FFN）的隐藏层大小\n",
    "    \"dropout\": 0.1,  # dropout 率，用于防止过拟合\n",
    "    \"layer_norm_eps\": 1e-6,  # 层归一化 (Layer Normalization) 时的 epsilon，防止除零错误\n",
    "    \"num_heads\": 8,  # 多头注意力机制的头数\n",
    "    \"num_decoder_layers\": 6,  # 解码器层数\n",
    "    \"num_encoder_layers\": 6,  # 编码器层数\n",
    "    \"label_smoothing\": 0.1,  # 交叉熵损失中的标签平滑系数\n",
    "    \"beta1\": 0.9,  # Adam 优化器的 beta1 参数（用于一阶矩估计）\n",
    "    \"beta2\": 0.98,  # Adam 优化器的 beta2 参数（用于二阶矩估计）\n",
    "    \"eps\": 1e-9,  # Adam 优化器的 epsilon，防止除零错误\n",
    "    \"warmup_steps\": 4000,  # 学习率预热步数\n",
    "    # \"share_embedding\": False,  # 是否在编码器和解码器之间共享词向量\n",
    "}\n",
    "\n",
    "def get_dl(dataset, batch_size, shuffle=True):\n",
    "    \"\"\"\n",
    "    获取数据加载器 (DataLoader)\n",
    "\n",
    "    参数：\n",
    "    dataset: 训练或验证数据集\n",
    "    batch_size: 批次大小\n",
    "    shuffle: 是否对批次进行随机排序（默认 True）\n",
    "\n",
    "    返回：\n",
    "    DataLoader 对象\n",
    "    \"\"\"\n",
    "    # 使用 Transformer 任务自定义的批次采样器，确保 batch 内的句子长度一致\n",
    "    sampler = TransformerBatchSampler(dataset, batch_size=batch_size, shuffle_batch=shuffle)\n",
    "    # 使用 DataLoader 进行数据加载，collate_fn 用于处理不同长度的句子\n",
    "    sample_dl = DataLoader(dataset, batch_sampler=sampler, collate_fn=partial(collate_fct, en_tokenizer=en_tokenizer, zh_tokenizer=zh_tokenizer))\n",
    "    return sample_dl\n",
    "\n",
    "# 构建训练集和验证集\n",
    "train_ds = LangPairDataset(\"train\", max_length=config[\"max_length\"])  # 训练数据集\n",
    "val_ds = LangPairDataset(\"val\", max_length=config[\"max_length\"])  # 验证数据集\n",
    "\n",
    "# 训练的批次大小\n",
    "batch_size = 8192\n",
    "\n",
    "# 创建数据加载器\n",
    "train_dl = get_dl(train_ds, batch_size=batch_size, shuffle=True)  # 训练数据加载器\n",
    "val_dl = get_dl(val_ds, batch_size=batch_size, shuffle=False)  # 验证数据加载器"
   ],
   "outputs": [
    {
     "name": "stdout",
     "output_type": "stream",
     "text": [
      "load train dataset from train_data_size_1000000_zh2en\\.cache\\de2en_train_128.npy\n",
      "load val dataset from train_data_size_1000000_zh2en\\.cache\\de2en_val_128.npy\n"
     ]
    }
   ],
   "execution_count": 34
  },
  {
   "cell_type": "code",
   "id": "797a8e1aaeea3802",
   "metadata": {
    "colab": {
     "base_uri": "https://localhost:8080/"
    },
    "executionInfo": {
     "elapsed": 21,
     "status": "ok",
     "timestamp": 1741005640230,
     "user": {
      "displayName": "Seagal",
      "userId": "11790859596784159614"
     },
     "user_tz": -480
    },
    "id": "797a8e1aaeea3802",
    "outputId": "2a6ed0f1-cfb8-46e9-b704-3411de0667b5",
    "ExecuteTime": {
     "end_time": "2025-04-10T18:32:31.730396Z",
     "start_time": "2025-04-10T18:32:31.725813Z"
    }
   },
   "source": [
    "import json\n",
    "import os\n",
    "# 指定目录\n",
    "save_dir = \"./checkpoints/model_bpe_1000000_large_epoch40_zh2en_not_share\"\n",
    "os.makedirs(save_dir, exist_ok=True)\n",
    "\n",
    "# 保存路径\n",
    "config_file_path = os.path.join(save_dir, \"Config.txt\")\n",
    "\n",
    "# 将 config 字典写入文件\n",
    "with open(config_file_path, \"w\", encoding=\"utf-8\") as f:\n",
    "    json.dump(config, f, indent=4)\n",
    "\n",
    "print(f\"Config has been saved to {config_file_path}\")"
   ],
   "outputs": [
    {
     "name": "stdout",
     "output_type": "stream",
     "text": [
      "Config has been saved to ./checkpoints/model_bpe_1000000_large_epoch40_zh2en_not_share\\Config.txt\n"
     ]
    }
   ],
   "execution_count": 35
  },
  {
   "cell_type": "code",
   "id": "d054d3344121700a",
   "metadata": {
    "colab": {
     "base_uri": "https://localhost:8080/"
    },
    "executionInfo": {
     "elapsed": 1831,
     "status": "ok",
     "timestamp": 1741005642062,
     "user": {
      "displayName": "Seagal",
      "userId": "11790859596784159614"
     },
     "user_tz": -480
    },
    "id": "d054d3344121700a",
    "outputId": "fb127eb9-b8b2-4288-85ce-4a4f25ac11fe",
    "ExecuteTime": {
     "end_time": "2025-04-10T18:32:32.751184Z",
     "start_time": "2025-04-10T18:32:31.730396Z"
    }
   },
   "source": [
    "#计算模型参数量\n",
    "model = TransformerModel(config)\n",
    "print(f\"模型参数量: {sum(p.numel() for p in model.parameters() if p.requires_grad)}\")"
   ],
   "outputs": [
    {
     "name": "stdout",
     "output_type": "stream",
     "text": [
      "模型参数量: 121059837\n"
     ]
    }
   ],
   "execution_count": 36
  },
  {
   "cell_type": "code",
   "id": "9ca2b7400ff45b3e",
   "metadata": {
    "id": "9ca2b7400ff45b3e",
    "executionInfo": {
     "status": "ok",
     "timestamp": 1741005644256,
     "user_tz": -480,
     "elapsed": 2173,
     "user": {
      "displayName": "Seagal",
      "userId": "11790859596784159614"
     }
    },
    "ExecuteTime": {
     "end_time": "2025-04-10T18:32:35.608027Z",
     "start_time": "2025-04-10T18:32:32.752188Z"
    }
   },
   "source": [
    "epoch = 10\n",
    "\n",
    "# 初始化模型\n",
    "model = TransformerModel(config)\n",
    "\n",
    "# 定义损失函数，采用交叉熵损失\n",
    "loss_fct = CrossEntropyWithPadding(config)\n",
    "\n",
    "# 定义优化器和学习率调度器，采用 Adam 优化器\n",
    "optimizer, scheduler = get_optimizer(model, config)\n",
    "\n",
    "# 创建 tensorboard 可视化目录\n",
    "if not os.path.exists(\"runs\"):\n",
    "    os.mkdir(\"runs\")\n",
    "\n",
    "# exp_name\n",
    "exp_name = \"model_bpe_1000000_large_epoch40_zh2en_not_share\"\n",
    "tensorboard_callback = TensorBoardCallback(f\"runs/{exp_name}\")\n",
    "\n",
    "# 创建保存检查点的目录\n",
    "if not os.path.exists(\"checkpoints\"):\n",
    "    os.makedirs(\"checkpoints\")\n",
    "save_ckpt_callback = SaveCheckpointsCallback(f\"checkpoints/{exp_name}\", save_step=500, save_best_only=True)\n",
    "\n",
    "# 早停机制\n",
    "early_stop_callback = EarlyStopCallback(patience=8)\n",
    "\n",
    "# 将模型转移到设备\n",
    "model = model.to(device)"
   ],
   "outputs": [],
   "execution_count": 37
  },
  {
   "cell_type": "markdown",
   "id": "669922b10120027",
   "metadata": {
    "id": "669922b10120027"
   },
   "source": [
    "### 开始训练"
   ]
  },
  {
   "cell_type": "code",
   "id": "99bfe77a2ff190e7",
   "metadata": {
    "colab": {
     "base_uri": "https://localhost:8080/",
     "height": 66,
     "referenced_widgets": [
      "43e5226f9dad4f2c9c9ded3f5bb8e512",
      "dbac23e3e3264da9aaf5c750f3280727",
      "511b524274ad41eb8c4eabcb0eec91c9",
      "d08459cdd3e64f0a9d9fd36e2d4b5125",
      "1d11f7fb05d3495d947aebd4a69a7549",
      "783985e729694b2580ec44021bdc619f",
      "d9e0dbfd44084743b76ae034a69b44fe",
      "feacff718326402bacd87fe2fdc82df5",
      "dd31c960ae324a45b361868c8806846a",
      "869c946063df4a03abdd46381444bc1c",
      "9a22bc23493e45ff845322f4319de970"
     ]
    },
    "id": "99bfe77a2ff190e7",
    "outputId": "f01d9995-50c7-4299-c75c-f5576804ddfa",
    "executionInfo": {
     "status": "ok",
     "timestamp": 1741016226376,
     "user_tz": -480,
     "elapsed": 3413792,
     "user": {
      "displayName": "Seagal",
      "userId": "11790859596784159614"
     }
    },
    "ExecuteTime": {
     "end_time": "2025-04-10T18:32:35.611693Z",
     "start_time": "2025-04-10T18:32:35.609031Z"
    }
   },
   "source": [
    "# record = training(\n",
    "#     model,\n",
    "#     train_dl,\n",
    "#     val_dl,\n",
    "#     epoch,\n",
    "#     loss_fct,\n",
    "#     optimizer,\n",
    "#     scheduler,\n",
    "#     tensorboard_callback= tensorboard_callback,\n",
    "#     save_ckpt_callback=save_ckpt_callback,\n",
    "#     early_stop_callback=early_stop_callback,\n",
    "#     eval_step=500\n",
    "#     )"
   ],
   "outputs": [],
   "execution_count": 38
  },
  {
   "cell_type": "markdown",
   "id": "f0f3cfe01971f620",
   "metadata": {
    "id": "f0f3cfe01971f620"
   },
   "source": [
    " ### 损失率折线图"
   ]
  },
  {
   "cell_type": "code",
   "id": "8347bcbc76e528a4",
   "metadata": {
    "id": "8347bcbc76e528a4",
    "outputId": "2a298112-b791-4ef0-8ce9-bf03c3b7feb9",
    "colab": {
     "base_uri": "https://localhost:8080/",
     "height": 1000
    },
    "executionInfo": {
     "status": "ok",
     "timestamp": 1741016228668,
     "user_tz": -480,
     "elapsed": 2285,
     "user": {
      "displayName": "Seagal",
      "userId": "11790859596784159614"
     }
    },
    "ExecuteTime": {
     "end_time": "2025-04-10T18:32:35.616109Z",
     "start_time": "2025-04-10T18:32:35.612697Z"
    }
   },
   "source": [
    "# import matplotlib.pyplot as plt\n",
    "# train_losses = [item['loss'] for item in record['train']]\n",
    "# train_steps = [item['step'] for item in record['train']]\n",
    "# val_losses = [item['loss'] for item in record['val']]\n",
    "# val_steps = [item['step'] for item in record['val']]\n",
    "# \n",
    "# plt.figure(figsize=(10, 6))\n",
    "# plt.plot(train_steps, train_losses, label='Training Loss')\n",
    "# plt.plot(val_steps, val_losses, label='Validation Loss')\n",
    "# plt.xlabel('Training Steps')\n",
    "# plt.ylabel('Loss')\n",
    "# plt.title('Training and Validation Loss')\n",
    "# plt.legend()\n",
    "# plt.grid(True)\n",
    "# plt.show()"
   ],
   "outputs": [],
   "execution_count": 39
  },
  {
   "cell_type": "code",
   "source": [
    "# for item in record['val']:\n",
    "#     print(item)"
   ],
   "metadata": {
    "colab": {
     "base_uri": "https://localhost:8080/"
    },
    "id": "3ljUrDr0JWyp",
    "executionInfo": {
     "status": "ok",
     "timestamp": 1741016228790,
     "user_tz": -480,
     "elapsed": 115,
     "user": {
      "displayName": "Seagal",
      "userId": "11790859596784159614"
     }
    },
    "outputId": "2c127674-13d0-4880-c049-ff504a3d092f",
    "ExecuteTime": {
     "end_time": "2025-04-10T18:32:35.618915Z",
     "start_time": "2025-04-10T18:32:35.616109Z"
    }
   },
   "id": "3ljUrDr0JWyp",
   "outputs": [],
   "execution_count": 40
  },
  {
   "cell_type": "markdown",
   "id": "39580a6bee41fe05",
   "metadata": {
    "id": "39580a6bee41fe05"
   },
   "source": [
    "## 推理"
   ]
  },
  {
   "cell_type": "markdown",
   "id": "fd5ded5540042285",
   "metadata": {
    "id": "fd5ded5540042285"
   },
   "source": [
    "### 加载模型"
   ]
  },
  {
   "cell_type": "code",
   "id": "563c9ac7eda78ee6",
   "metadata": {
    "id": "563c9ac7eda78ee6",
    "outputId": "1bb60786-1bfe-4fb8-8144-c0f2c0547d60",
    "colab": {
     "base_uri": "https://localhost:8080/"
    },
    "executionInfo": {
     "status": "ok",
     "timestamp": 1741016228803,
     "user_tz": -480,
     "elapsed": 7,
     "user": {
      "displayName": "Seagal",
      "userId": "11790859596784159614"
     }
    },
    "ExecuteTime": {
     "end_time": "2025-04-10T18:32:37.007956Z",
     "start_time": "2025-04-10T18:32:35.620921Z"
    }
   },
   "source": [
    "import torch\n",
    "\n",
    "state_dict = torch.load(f\"./checkpoints/{exp_name}/best.ckpt\", map_location=\"cpu\", weights_only=True)\n",
    "\n",
    "# 加载 Transformer 模型\n",
    "model = TransformerModel(config)  # 初始化 Transformer 模型\n",
    "model.load_state_dict(state_dict)  # 加载预训练模型的参数"
   ],
   "outputs": [
    {
     "data": {
      "text/plain": [
       "<All keys matched successfully>"
      ]
     },
     "execution_count": 41,
     "metadata": {},
     "output_type": "execute_result"
    }
   ],
   "execution_count": 41
  },
  {
   "cell_type": "markdown",
   "id": "37426f5b72478607",
   "metadata": {
    "id": "37426f5b72478607"
   },
   "source": [
    "### 计算 BLEU 评分"
   ]
  },
  {
   "cell_type": "code",
   "source": [
    "# ! pip install sacremoses\n",
    "# ! pip install subword-nmt"
   ],
   "metadata": {
    "colab": {
     "base_uri": "https://localhost:8080/"
    },
    "id": "PHqI6yZyKD7h",
    "executionInfo": {
     "status": "ok",
     "timestamp": 1741016232966,
     "user_tz": -480,
     "elapsed": 4156,
     "user": {
      "displayName": "Seagal",
      "userId": "11790859596784159614"
     }
    },
    "outputId": "2f60217f-7740-4279-ac7f-b6b4463d34c1",
    "ExecuteTime": {
     "end_time": "2025-04-10T18:32:37.011967Z",
     "start_time": "2025-04-10T18:32:37.008958Z"
    }
   },
   "id": "PHqI6yZyKD7h",
   "outputs": [],
   "execution_count": 42
  },
  {
   "cell_type": "code",
   "id": "6c3a34b0b93a3f6a",
   "metadata": {
    "id": "6c3a34b0b93a3f6a",
    "outputId": "e279a8fa-8ea8-4bc8-dfcd-f88e8956cd95",
    "colab": {
     "base_uri": "https://localhost:8080/"
    },
    "executionInfo": {
     "status": "ok",
     "timestamp": 1741016417571,
     "user_tz": -480,
     "elapsed": 184597,
     "user": {
      "displayName": "Seagal",
      "userId": "11790859596784159614"
     }
    },
    "ExecuteTime": {
     "end_time": "2025-04-10T18:32:37.018780Z",
     "start_time": "2025-04-10T18:32:37.012968Z"
    }
   },
   "source": [
    "# from nltk.translate.bleu_score import sentence_bleu, SmoothingFunction\n",
    "# from tqdm import tqdm\n",
    "# from rouge_score import rouge_scorer\n",
    "# # 定义损失函数（交叉熵损失，带有标签平滑）\n",
    "# loss_fct = CrossEntropyWithPadding(config)\n",
    "# \n",
    "# # 加载测试数据集\n",
    "# test_ds = LangPairDataset(\"test\", max_length=128, data_dir=f\"./{dataset_path}\")  # 测试数据集\n",
    "# test_dl = DataLoader(test_ds, batch_size=1, collate_fn=partial(collate_fct, en_tokenizer=en_tokenizer, zh_tokenizer=zh_tokenizer))  # 数据加载器\n",
    "# \n",
    "# # 迁移模型到计算设备（CPU/GPU）\n",
    "# model = model.to(device)\n",
    "# model.eval()  # 设置模型为评估模式，防止 dropout 或 batchnorm 影响推理\n",
    "# \n",
    "# # 创建平滑函数实例\n",
    "# smoothing_function = SmoothingFunction().method1  # 使用method1平滑\n",
    "# \n",
    "# # 定义数据收集字典\n",
    "# collect = {}  # 用于存储测试集中的样本及其损失\n",
    "# loss_collect = []  # 用于收集所有样本的损失\n",
    "# \n",
    "# predictions = []  # 存储所有预测结果\n",
    "# answers = []  # 存储所有真实标签\n",
    "# bleu1_scores = []  # 存储 BLEU-1 评分\n",
    "# bleu2_scores = []  # 存储 BLEU-2 评分\n",
    "# bleu3_scores = []  # 存储 BLEU-3 评分\n",
    "# bleu4_scores = []  # 存储 BLEU-4 评分\n",
    "# \n",
    "# # 定义 ROUGE 评分器\n",
    "# rouge_scorer = rouge_scorer.RougeScorer(['rouge1', 'rouge2', 'rougeL'], use_stemmer=True)\n",
    "# \n",
    "# # 存储 ROUGE 评分\n",
    "# rouge1_scores = []\n",
    "# rouge2_scores = []\n",
    "# rougeL_scores = []\n",
    "# \n",
    "# # 遍历测试集\n",
    "# for idx, batch in tqdm(enumerate(test_dl), total=len(test_dl), desc=\"Evaluating\", unit=\"batch\"):\n",
    "#     encoder_inputs = batch[\"encoder_inputs\"]  # 编码器输入（源语言）\n",
    "#     encoder_inputs_mask = batch[\"encoder_inputs_mask\"]  # 源输入的填充掩码\n",
    "#     decoder_inputs = batch[\"decoder_inputs\"]  # 解码器输入（目标语言）\n",
    "#     decoder_labels = batch[\"decoder_labels\"]  # 目标真实标签（用于计算损失）\n",
    "# \n",
    "#     # 进行前向传播，获取 Transformer 输出\n",
    "#     outputs = model(\n",
    "#         encoder_inputs=encoder_inputs,\n",
    "#         decoder_inputs=decoder_inputs,\n",
    "#         encoder_inputs_mask=encoder_inputs_mask\n",
    "#     )\n",
    "# \n",
    "#     # 计算交叉熵损失\n",
    "#     loss = loss_fct(outputs.logits, decoder_labels)\n",
    "# \n",
    "#     # 获取预测结果：取每个时间步上最大概率的词索引\n",
    "#     preds = outputs.logits.argmax(dim=-1)  # 预测序列形状为 [1, seq_len]\n",
    "# \n",
    "#     # 将预测索引转换为实际的文本句子\n",
    "#     preds = zh_tokenizer.decode(preds.cpu().numpy())  # ['预测句子']\n",
    "# \n",
    "#     # 将真实标签转换为文本句子\n",
    "#     decoder_labels = zh_tokenizer.decode(decoder_labels.cpu().numpy())  # ['标签句子']\n",
    "# \n",
    "#     # 计算不同n-gram的BLEU评分\n",
    "#     bleu1 = sentence_bleu([decoder_labels[0].split()], preds[0].split(), weights=(1, 0, 0, 0), smoothing_function=smoothing_function)\n",
    "#     bleu2 = sentence_bleu([decoder_labels[0].split()], preds[0].split(), weights=(0.5, 0.5, 0, 0), smoothing_function=smoothing_function)\n",
    "#     bleu3 = sentence_bleu([decoder_labels[0].split()], preds[0].split(), weights=(0.33, 0.33, 0.33, 0), smoothing_function=smoothing_function)\n",
    "#     bleu4 = sentence_bleu([decoder_labels[0].split()], preds[0].split(), weights=(0.25, 0.25, 0.25, 0.25), smoothing_function=smoothing_function)\n",
    "# \n",
    "#     bleu1_scores.append(bleu1)  # 存储 BLEU-1 分数\n",
    "#     bleu2_scores.append(bleu2)  # 存储 BLEU-2 分数\n",
    "#     bleu3_scores.append(bleu3)  # 存储 BLEU-3 分数\n",
    "#     bleu4_scores.append(bleu4)  # 存储 BLEU-4 分数\n",
    "# \n",
    "#     # 计算 ROUGE 评分\n",
    "#     rouge_scores = rouge_scorer.score(decoder_labels[0], preds[0])\n",
    "#     rouge1_scores.append(rouge_scores['rouge1'].fmeasure)\n",
    "#     rouge2_scores.append(rouge_scores['rouge2'].fmeasure)\n",
    "#     rougeL_scores.append(rouge_scores['rougeL'].fmeasure)\n",
    "# \n",
    "#     # 记录样本信息，包括损失、输入、目标、预测\n",
    "#     collect[idx] = {\n",
    "#         \"loss\": loss.item(),  # 当前样本的损失\n",
    "#         \"src_inputs\": encoder_inputs,  # 源语言输入\n",
    "#         \"trg_inputs\": decoder_inputs,  # 目标语言输入\n",
    "#         \"mask\": encoder_inputs_mask,  # 源语言的填充掩码\n",
    "#         \"trg_labels\": decoder_labels,  # 真实目标文本\n",
    "#         \"preds\": preds  # 预测文本\n",
    "#     }\n",
    "# \n",
    "#     # 记录损失\n",
    "#     loss_collect.append(loss.item())\n",
    "# \n",
    "# # 按照损失大小对收集的数据进行排序（从低到高）\n",
    "# collect = sorted(collect.items(), key=lambda x: x[1][\"loss\"])\n",
    "# \n",
    "# # 输出测试集平均损失q\n",
    "# print(f\"testing loss: {np.array(loss_collect).mean()}\")\n",
    "# \n",
    "# # 输出各个n-gram BLEU评分的平均值\n",
    "# print(f\"Average BLEU-1 score: {sum(bleu1_scores) / len(bleu1_scores)}\")\n",
    "# print(f\"Average BLEU-2 score: {sum(bleu2_scores) / len(bleu2_scores)}\")\n",
    "# print(f\"Average BLEU-3 score: {sum(bleu3_scores) / len(bleu3_scores)}\")\n",
    "# print(f\"Average BLEU-4 score: {sum(bleu4_scores) / len(bleu4_scores)}\")\n",
    "# # 输出 ROUGE 评分\n",
    "# print(f\"Average ROUGE-1 score: {sum(rouge1_scores) / len(rouge1_scores)}\")\n",
    "# print(f\"Average ROUGE-2 score: {sum(rouge2_scores) / len(rouge2_scores)}\")\n",
    "# print(f\"Average ROUGE-L score: {sum(rougeL_scores) / len(rougeL_scores)}\")"
   ],
   "outputs": [],
   "execution_count": 43
  },
  {
   "cell_type": "markdown",
   "id": "4935fbd334a4b7a1",
   "metadata": {
    "id": "4935fbd334a4b7a1"
   },
   "source": [
    "### Translating"
   ]
  },
  {
   "cell_type": "code",
   "id": "f0d6fd1343aa89eb",
   "metadata": {
    "id": "f0d6fd1343aa89eb",
    "outputId": "b79dec39-4534-4843-f539-b0f5a9f5c48d",
    "colab": {
     "base_uri": "https://localhost:8080/",
     "height": 1000
    },
    "executionInfo": {
     "status": "ok",
     "timestamp": 1741016577489,
     "user_tz": -480,
     "elapsed": 4194,
     "user": {
      "displayName": "Seagal",
      "userId": "11790859596784159614"
     }
    },
    "ExecuteTime": {
     "end_time": "2025-04-10T18:34:43.979608Z",
     "start_time": "2025-04-10T18:34:41.279806Z"
    }
   },
   "source": [
    "import re\n",
    "import jieba\n",
    "import torch\n",
    "from sacremoses import MosesDetokenizer, MosesTokenizer\n",
    "import matplotlib.pyplot as plt\n",
    "import numpy as np\n",
    "from pathlib import Path\n",
    "import subprocess\n",
    "import matplotlib\n",
    "\n",
    "class Translator:\n",
    "    def __init__(self, model, zh_tokenizer, en_tokenizer, dataset_path=\"./train_data_size_1000000_zh2en\"):\n",
    "        \"\"\"\n",
    "        初始化翻译器类，包含 BPE 处理、分词、去标记化和模型推理功能。\n",
    "        \"\"\"\n",
    "        self.dataset_path = Path(dataset_path)\n",
    "\n",
    "        # 英文和中文的 BPE 规则文件\n",
    "        self.en_bpe_rules = self.dataset_path / \"bpe.en.50000\"\n",
    "        self.zh_bpe_rules = self.dataset_path / \"bpe.zh.50000\"\n",
    "\n",
    "        # 英文和中文的词汇表文件\n",
    "        self.en_vocab = self.dataset_path / \"en.vocab\"\n",
    "        self.zh_vocab = self.dataset_path / \"zh.vocab\"\n",
    "\n",
    "        # 设置模型和评估模式\n",
    "        self.model = model\n",
    "        self.model.eval()\n",
    "\n",
    "        # 设置英文和中文的 tokenizer\n",
    "        self.en_tokenizer = en_tokenizer\n",
    "        self.zh_tokenizer = zh_tokenizer\n",
    "\n",
    "        # 正则模式，用于去除 BPE 标记\n",
    "        self.pattern = re.compile(r'(@@ )|(@@ ?$)')\n",
    "        \n",
    "         # 初始化 Moses 分词器和去标记化器\n",
    "        self.mose_tokenizer = MosesTokenizer(lang=\"zh\")  # 英文分词器\n",
    "        self.mose_detokenizer = MosesDetokenizer(lang=\"en\")  # 中文去标记化器\n",
    "\n",
    "    def apply_bpe(self, input_file, output_file, bpe_rules, vocab_file):\n",
    "        \"\"\"\n",
    "        使用 subword-nmt 的 apply-bpe 命令对文件进行 BPE 分词。\n",
    "\n",
    "        :param input_file: 输入文件路径\n",
    "        :param output_file: 输出文件路径\n",
    "        :param bpe_rules: BPE 规则文件路径\n",
    "        :param vocab_file: 词汇表文件路径\n",
    "        \"\"\"\n",
    "        try:\n",
    "            subprocess.run([\n",
    "                \"subword-nmt\", \"apply-bpe\",\n",
    "                \"-c\", str(bpe_rules),\n",
    "                \"--vocabulary\", str(vocab_file),\n",
    "                \"--vocabulary-threshold\", \"50\",\n",
    "                \"-i\", str(input_file),\n",
    "                \"-o\", str(output_file)\n",
    "            ], check=True)\n",
    "        except subprocess.CalledProcessError as e:\n",
    "            raise RuntimeError(f\"Failed to apply BPE: {e}\")\n",
    "\n",
    "    def draw_attention_map(self, attn_scores, cross_attn_scores, src_words_list, trg_words_list):\n",
    "        \"\"\"\n",
    "        绘制 Transformer 模型的注意力（Attention）热力图，包括自注意力和交叉注意力。\n",
    "        \"\"\"\n",
    "        # 设置中文字体\n",
    "        matplotlib.rcParams['font.sans-serif'] = ['SimHei']  # 指定黑体\n",
    "        matplotlib.rcParams['axes.unicode_minus'] = False  # 解决负号显示问题\n",
    "\n",
    "        # 验证输入张量的形状\n",
    "        assert len(attn_scores.shape) == 3, f\"attn_scores 形状应为 [num_heads, trg_len, trg_len]，但得到了 {attn_scores.shape}\"\n",
    "        attn_scores = attn_scores[:, :len(trg_words_list), :len(trg_words_list)]  # 截取目标序列长度\n",
    "        assert len(cross_attn_scores.shape) == 3, f\"cross_attn_scores 形状应为 [num_heads, trg_len, src_len]，但得到了 {cross_attn_scores.shape}\"\n",
    "        cross_attn_scores = cross_attn_scores[:, :len(trg_words_list), :len(src_words_list)]  # 截取源序列长度\n",
    "\n",
    "        num_heads, trg_len, src_len = cross_attn_scores.shape\n",
    "\n",
    "        fig = plt.figure(figsize=(12, 8), constrained_layout=True)\n",
    "        grid = fig.add_gridspec(trg_len, trg_len + src_len, wspace=0.1, hspace=0.1)\n",
    "\n",
    "        # 绘制自注意力热力图\n",
    "        self_map = fig.add_subplot(grid[:, :trg_len])\n",
    "        self_map.matshow(attn_scores.mean(dim=0), cmap='viridis')  # 平均值作为热力图\n",
    "        self_map.set_yticks(range(trg_len), trg_words_list, fontsize=10)\n",
    "        self_map.set_xticks(range(trg_len), [\"[BOS]\"] + trg_words_list[:-1], rotation=90)\n",
    "\n",
    "        # 绘制交叉注意力热力图\n",
    "        cross_map = fig.add_subplot(grid[:, trg_len:])\n",
    "        cross_map.matshow(cross_attn_scores.mean(dim=0), cmap='viridis')\n",
    "        cross_map.set_yticks(range(trg_len), [])\n",
    "        cross_map.set_xticks(range(src_len), src_words_list, rotation=90)\n",
    "\n",
    "        plt.show()\n",
    "\n",
    "    def __call__(self, sentence_list, heads_list=None, layer_idx=-1):\n",
    "        \"\"\"\n",
    "        执行翻译任务，并可选地绘制注意力热力图。\n",
    "        \"\"\"\n",
    "        # 使用 Jieba 分词进行中文分词\n",
    "        sentence_list = [\" \".join(jieba.cut(s)) for s in sentence_list]\n",
    "        print(sentence_list)\n",
    "\n",
    "        # 将句子列表写入临时文件\n",
    "        temp_input_file = self.dataset_path / \"temp_input.txt\"\n",
    "        temp_output_file = self.dataset_path / \"temp_output.bpe\"\n",
    "\n",
    "        # 写入中文句子\n",
    "        with open(temp_input_file, \"w\", encoding=\"utf8\") as f:\n",
    "            f.write(\"\\n\".join(sentence_list))\n",
    "\n",
    "        # 对中文句子进行 BPE 分词\n",
    "        self.apply_bpe(temp_input_file, temp_output_file, self.zh_bpe_rules, self.zh_vocab)\n",
    "\n",
    "        # 读取 BPE 分词后的结果\n",
    "        with open(temp_output_file, \"r\", encoding=\"utf8\") as f:\n",
    "            zh_tokens_list = [line.strip().split() for line in f]\n",
    "        print(\"Chinese tokens list:\", zh_tokens_list)\n",
    "\n",
    "        # 使用中文tokenizer处理输入\n",
    "        encoder_input, attn_mask = self.zh_tokenizer.encode(zh_tokens_list, add_bos=True, add_eos=True, return_mask=True)\n",
    "        print(\"Chinese encoder input:\", encoder_input)\n",
    "        print(\"Attention mask:\", attn_mask)\n",
    "\n",
    "        encoder_input = torch.Tensor(encoder_input).to(dtype=torch.int64)\n",
    "        print(\"Encoder input:\", encoder_input)\n",
    "\n",
    "        # 执行模型推理\n",
    "        outputs = self.model.infer(encoder_inputs=encoder_input, encoder_inputs_mask=attn_mask)\n",
    "        \n",
    "        preds = outputs.preds.numpy()\n",
    "        print(\"Predictions:\", preds)\n",
    "\n",
    "        # 获取模型的注意力分数\n",
    "        attn_scores = outputs.decoder_self_attn_scores[layer_idx]  # 自注意力\n",
    "        cross_attn_scores = outputs.decoder_cross_attn_scores[layer_idx]  # 交叉注意力\n",
    "\n",
    "        # 使用英文tokenizer解码输出\n",
    "        trg_decoded = self.en_tokenizer.decode(preds, split=True, remove_eos=False, remove_bos=False, remove_pad=False)\n",
    "        # 使用中文tokenizer解码输入\n",
    "        src_decoded = self.zh_tokenizer.decode(encoder_input.numpy(), split=True, remove_bos=False, remove_eos=False)\n",
    "\n",
    "        # 绘制注意力图\n",
    "        for attn_score, cross_attn_score, src, trg in zip(attn_scores, cross_attn_scores, src_decoded, trg_decoded):\n",
    "            self.draw_attention_map(attn_score, cross_attn_score, src, trg)\n",
    "\n",
    "        # 返回翻译结果，去除 BPE 标记\n",
    "        return [self.mose_detokenizer.tokenize(self.pattern.sub(\"\", s).split()) for s in self.en_tokenizer.decode(preds)]\n",
    "\n",
    "# 示例输入句子列表（英文）\n",
    "sentence_list = [\"年度气候峰会将于下月在日内瓦举行。\"]\n",
    "\n",
    "# 加载模型并进行推理\n",
    "model = TransformerModel(config)\n",
    "model.load_state_dict(state_dict)\n",
    "\n",
    "# 假设 en_tokenizer 和 zh_tokenizer 已经初始化\n",
    "translator = Translator(model.cpu(), zh_tokenizer, en_tokenizer)\n",
    "\n",
    "# 执行翻译并绘制热力图\n",
    "translated_sentences = translator(sentence_list, layer_idx=-1)\n",
    "\n",
    "# 输出翻译结果\n",
    "for sentence in translated_sentences:\n",
    "    print(\"Translated sentence:\", sentence)"
   ],
   "outputs": [
    {
     "name": "stdout",
     "output_type": "stream",
     "text": [
      "['年度 气候 峰会 将 于 下 月 在 日内瓦 举行 。']\n",
      "Chinese tokens list: [['年度', '气候', '峰@@', '会', '将', '于', '下', '月', '在', '日内瓦', '举行', '。']]\n",
      "Chinese encoder input: tensor([[    1,  1416,  2158, 49354,   246,    30,   122,   123,    20,     9,\n",
      "           715,   175,     5,     3]])\n",
      "Attention mask: tensor([[0, 0, 0, 0, 0, 0, 0, 0, 0, 0, 0, 0, 0, 0]])\n",
      "Encoder input: tensor([[    1,  1416,  2158, 49354,   246,    30,   122,   123,    20,     9,\n",
      "           715,   175,     5,     3]])\n"
     ]
    },
    {
     "data": {
      "text/plain": [
       "  0%|          | 0/128 [00:00<?, ?it/s]"
      ],
      "application/vnd.jupyter.widget-view+json": {
       "version_major": 2,
       "version_minor": 0,
       "model_id": "a612348496384985a487d1889153e3df"
      }
     },
     "metadata": {},
     "output_type": "display_data"
    },
    {
     "name": "stdout",
     "output_type": "stream",
     "text": [
      "Predictions: [[   4  764 1077   66   19  212   10  646   10  763  213    7    3]]\n"
     ]
    },
    {
     "data": {
      "text/plain": [
       "<Figure size 1200x800 with 2 Axes>"
      ],
      "image/png": "[encoded data removed]"
     },
     "metadata": {},
     "output_type": "display_data"
    },
    {
     "name": "stdout",
     "output_type": "stream",
     "text": [
      "Translated sentence: the annual climate will be held in geneva in early june.\n"
     ]
    }
   ],
   "execution_count": 45
  }
 ],
 "metadata": {
  "accelerator": "GPU",
  "colab": {
   "gpuType": "A100",
   "machine_shape": "hm",
   "provenance": []
  },
  "kernelspec": {
   "display_name": "Python 3 (ipykernel)",
   "name": "python3",
   "language": "python"
  },
  "language_info": {
   "codemirror_mode": {
    "name": "ipython",
    "version": 2
   },
   "file_extension": ".py",
   "mimetype": "text/x-python",
   "name": "python",
   "nbconvert_exporter": "python",
   "pygments_lexer": "ipython2",
   "version": "2.7.6"
  },
  "widgets": {
   "application/vnd.jupyter.widget-state+json": {
    "5ad4c47414d349c1b44fb38afc8449a9": {
     "model_module": "@jupyter-widgets/controls",
     "model_name": "HBoxModel",
     "model_module_version": "1.5.0",
     "state": {
      "_dom_classes": [],
      "_model_module": "@jupyter-widgets/controls",
      "_model_module_version": "1.5.0",
      "_model_name": "HBoxModel",
      "_view_count": null,
      "_view_module": "@jupyter-widgets/controls",
      "_view_module_version": "1.5.0",
      "_view_name": "HBoxView",
      "box_style": "",
      "children": [
       "IPY_MODEL_a7e755097ad94a27baa4908d85564fe3",
       "IPY_MODEL_c336ff919ad84c06b4d435af8812da34",
       "IPY_MODEL_db072193241b4176abd7dff003ad4c22"
      ],
      "layout": "IPY_MODEL_60dc9410aadc4e98a65b2621fc2bd294"
     }
    },
    "a7e755097ad94a27baa4908d85564fe3": {
     "model_module": "@jupyter-widgets/controls",
     "model_name": "HTMLModel",
     "model_module_version": "1.5.0",
     "state": {
      "_dom_classes": [],
      "_model_module": "@jupyter-widgets/controls",
      "_model_module_version": "1.5.0",
      "_model_name": "HTMLModel",
      "_view_count": null,
      "_view_module": "@jupyter-widgets/controls",
      "_view_module_version": "1.5.0",
      "_view_name": "HTMLView",
      "description": "",
      "description_tooltip": null,
      "layout": "IPY_MODEL_e8a5c441580f4fbba993d85e94ab7f25",
      "placeholder": "​",
      "style": "IPY_MODEL_232d53940b5844d7a40ad03c7ece7459",
      "value": "100%"
     }
    },
    "c336ff919ad84c06b4d435af8812da34": {
     "model_module": "@jupyter-widgets/controls",
     "model_name": "FloatProgressModel",
     "model_module_version": "1.5.0",
     "state": {
      "_dom_classes": [],
      "_model_module": "@jupyter-widgets/controls",
      "_model_module_version": "1.5.0",
      "_model_name": "FloatProgressModel",
      "_view_count": null,
      "_view_module": "@jupyter-widgets/controls",
      "_view_module_version": "1.5.0",
      "_view_name": "ProgressView",
      "bar_style": "success",
      "description": "",
      "description_tooltip": null,
      "layout": "IPY_MODEL_b83a47e3df014d6aa927559f0240d248",
      "max": 47609,
      "min": 0,
      "orientation": "horizontal",
      "style": "IPY_MODEL_8739091f49cb45a3a32f4e6610337024",
      "value": 47609
     }
    },
    "db072193241b4176abd7dff003ad4c22": {
     "model_module": "@jupyter-widgets/controls",
     "model_name": "HTMLModel",
     "model_module_version": "1.5.0",
     "state": {
      "_dom_classes": [],
      "_model_module": "@jupyter-widgets/controls",
      "_model_module_version": "1.5.0",
      "_model_name": "HTMLModel",
      "_view_count": null,
      "_view_module": "@jupyter-widgets/controls",
      "_view_module_version": "1.5.0",
      "_view_name": "HTMLView",
      "description": "",
      "description_tooltip": null,
      "layout": "IPY_MODEL_c301ed4cc6b642c5be5d5d4f03b5696d",
      "placeholder": "​",
      "style": "IPY_MODEL_cdbcd22293aa46318e72ad3eedf979ab",
      "value": " 47609/47609 [00:00&lt;00:00, 579837.10it/s]"
     }
    },
    "60dc9410aadc4e98a65b2621fc2bd294": {
     "model_module": "@jupyter-widgets/base",
     "model_name": "LayoutModel",
     "model_module_version": "1.2.0",
     "state": {
      "_model_module": "@jupyter-widgets/base",
      "_model_module_version": "1.2.0",
      "_model_name": "LayoutModel",
      "_view_count": null,
      "_view_module": "@jupyter-widgets/base",
      "_view_module_version": "1.2.0",
      "_view_name": "LayoutView",
      "align_content": null,
      "align_items": null,
      "align_self": null,
      "border": null,
      "bottom": null,
      "display": null,
      "flex": null,
      "flex_flow": null,
      "grid_area": null,
      "grid_auto_columns": null,
      "grid_auto_flow": null,
      "grid_auto_rows": null,
      "grid_column": null,
      "grid_gap": null,
      "grid_row": null,
      "grid_template_areas": null,
      "grid_template_columns": null,
      "grid_template_rows": null,
      "height": null,
      "justify_content": null,
      "justify_items": null,
      "left": null,
      "margin": null,
      "max_height": null,
      "max_width": null,
      "min_height": null,
      "min_width": null,
      "object_fit": null,
      "object_position": null,
      "order": null,
      "overflow": null,
      "overflow_x": null,
      "overflow_y": null,
      "padding": null,
      "right": null,
      "top": null,
      "visibility": null,
      "width": null
     }
    },
    "e8a5c441580f4fbba993d85e94ab7f25": {
     "model_module": "@jupyter-widgets/base",
     "model_name": "LayoutModel",
     "model_module_version": "1.2.0",
     "state": {
      "_model_module": "@jupyter-widgets/base",
      "_model_module_version": "1.2.0",
      "_model_name": "LayoutModel",
      "_view_count": null,
      "_view_module": "@jupyter-widgets/base",
      "_view_module_version": "1.2.0",
      "_view_name": "LayoutView",
      "align_content": null,
      "align_items": null,
      "align_self": null,
      "border": null,
      "bottom": null,
      "display": null,
      "flex": null,
      "flex_flow": null,
      "grid_area": null,
      "grid_auto_columns": null,
      "grid_auto_flow": null,
      "grid_auto_rows": null,
      "grid_column": null,
      "grid_gap": null,
      "grid_row": null,
      "grid_template_areas": null,
      "grid_template_columns": null,
      "grid_template_rows": null,
      "height": null,
      "justify_content": null,
      "justify_items": null,
      "left": null,
      "margin": null,
      "max_height": null,
      "max_width": null,
      "min_height": null,
      "min_width": null,
      "object_fit": null,
      "object_position": null,
      "order": null,
      "overflow": null,
      "overflow_x": null,
      "overflow_y": null,
      "padding": null,
      "right": null,
      "top": null,
      "visibility": null,
      "width": null
     }
    },
    "232d53940b5844d7a40ad03c7ece7459": {
     "model_module": "@jupyter-widgets/controls",
     "model_name": "DescriptionStyleModel",
     "model_module_version": "1.5.0",
     "state": {
      "_model_module": "@jupyter-widgets/controls",
      "_model_module_version": "1.5.0",
      "_model_name": "DescriptionStyleModel",
      "_view_count": null,
      "_view_module": "@jupyter-widgets/base",
      "_view_module_version": "1.2.0",
      "_view_name": "StyleView",
      "description_width": ""
     }
    },
    "b83a47e3df014d6aa927559f0240d248": {
     "model_module": "@jupyter-widgets/base",
     "model_name": "LayoutModel",
     "model_module_version": "1.2.0",
     "state": {
      "_model_module": "@jupyter-widgets/base",
      "_model_module_version": "1.2.0",
      "_model_name": "LayoutModel",
      "_view_count": null,
      "_view_module": "@jupyter-widgets/base",
      "_view_module_version": "1.2.0",
      "_view_name": "LayoutView",
      "align_content": null,
      "align_items": null,
      "align_self": null,
      "border": null,
      "bottom": null,
      "display": null,
      "flex": null,
      "flex_flow": null,
      "grid_area": null,
      "grid_auto_columns": null,
      "grid_auto_flow": null,
      "grid_auto_rows": null,
      "grid_column": null,
      "grid_gap": null,
      "grid_row": null,
      "grid_template_areas": null,
      "grid_template_columns": null,
      "grid_template_rows": null,
      "height": null,
      "justify_content": null,
      "justify_items": null,
      "left": null,
      "margin": null,
      "max_height": null,
      "max_width": null,
      "min_height": null,
      "min_width": null,
      "object_fit": null,
      "object_position": null,
      "order": null,
      "overflow": null,
      "overflow_x": null,
      "overflow_y": null,
      "padding": null,
      "right": null,
      "top": null,
      "visibility": null,
      "width": null
     }
    },
    "8739091f49cb45a3a32f4e6610337024": {
     "model_module": "@jupyter-widgets/controls",
     "model_name": "ProgressStyleModel",
     "model_module_version": "1.5.0",
     "state": {
      "_model_module": "@jupyter-widgets/controls",
      "_model_module_version": "1.5.0",
      "_model_name": "ProgressStyleModel",
      "_view_count": null,
      "_view_module": "@jupyter-widgets/base",
      "_view_module_version": "1.2.0",
      "_view_name": "StyleView",
      "bar_color": null,
      "description_width": ""
     }
    },
    "c301ed4cc6b642c5be5d5d4f03b5696d": {
     "model_module": "@jupyter-widgets/base",
     "model_name": "LayoutModel",
     "model_module_version": "1.2.0",
     "state": {
      "_model_module": "@jupyter-widgets/base",
      "_model_module_version": "1.2.0",
      "_model_name": "LayoutModel",
      "_view_count": null,
      "_view_module": "@jupyter-widgets/base",
      "_view_module_version": "1.2.0",
      "_view_name": "LayoutView",
      "align_content": null,
      "align_items": null,
      "align_self": null,
      "border": null,
      "bottom": null,
      "display": null,
      "flex": null,
      "flex_flow": null,
      "grid_area": null,
      "grid_auto_columns": null,
      "grid_auto_flow": null,
      "grid_auto_rows": null,
      "grid_column": null,
      "grid_gap": null,
      "grid_row": null,
      "grid_template_areas": null,
      "grid_template_columns": null,
      "grid_template_rows": null,
      "height": null,
      "justify_content": null,
      "justify_items": null,
      "left": null,
      "margin": null,
      "max_height": null,
      "max_width": null,
      "min_height": null,
      "min_width": null,
      "object_fit": null,
      "object_position": null,
      "order": null,
      "overflow": null,
      "overflow_x": null,
      "overflow_y": null,
      "padding": null,
      "right": null,
      "top": null,
      "visibility": null,
      "width": null
     }
    },
    "cdbcd22293aa46318e72ad3eedf979ab": {
     "model_module": "@jupyter-widgets/controls",
     "model_name": "DescriptionStyleModel",
     "model_module_version": "1.5.0",
     "state": {
      "_model_module": "@jupyter-widgets/controls",
      "_model_module_version": "1.5.0",
      "_model_name": "DescriptionStyleModel",
      "_view_count": null,
      "_view_module": "@jupyter-widgets/base",
      "_view_module_version": "1.2.0",
      "_view_name": "StyleView",
      "description_width": ""
     }
    },
    "9637c960540e482a91130e54e64d4a32": {
     "model_module": "@jupyter-widgets/controls",
     "model_name": "HBoxModel",
     "model_module_version": "1.5.0",
     "state": {
      "_dom_classes": [],
      "_model_module": "@jupyter-widgets/controls",
      "_model_module_version": "1.5.0",
      "_model_name": "HBoxModel",
      "_view_count": null,
      "_view_module": "@jupyter-widgets/controls",
      "_view_module_version": "1.5.0",
      "_view_name": "HBoxView",
      "box_style": "",
      "children": [
       "IPY_MODEL_047bb5c224b94380b292ba1b133e0417",
       "IPY_MODEL_7a8b3dc358154d25aabfa8ad218a19bc",
       "IPY_MODEL_3a17919d1d854783940dbf23d7061f36"
      ],
      "layout": "IPY_MODEL_89a51a19525649308a9fc3d068ba4319"
     }
    },
    "047bb5c224b94380b292ba1b133e0417": {
     "model_module": "@jupyter-widgets/controls",
     "model_name": "HTMLModel",
     "model_module_version": "1.5.0",
     "state": {
      "_dom_classes": [],
      "_model_module": "@jupyter-widgets/controls",
      "_model_module_version": "1.5.0",
      "_model_name": "HTMLModel",
      "_view_count": null,
      "_view_module": "@jupyter-widgets/controls",
      "_view_module_version": "1.5.0",
      "_view_name": "HTMLView",
      "description": "",
      "description_tooltip": null,
      "layout": "IPY_MODEL_ceb3853559e548dc85979b470b4e6143",
      "placeholder": "​",
      "style": "IPY_MODEL_da9d413568a54d0d8dc97f7db1fcaf16",
      "value": "100%"
     }
    },
    "7a8b3dc358154d25aabfa8ad218a19bc": {
     "model_module": "@jupyter-widgets/controls",
     "model_name": "FloatProgressModel",
     "model_module_version": "1.5.0",
     "state": {
      "_dom_classes": [],
      "_model_module": "@jupyter-widgets/controls",
      "_model_module_version": "1.5.0",
      "_model_name": "FloatProgressModel",
      "_view_count": null,
      "_view_module": "@jupyter-widgets/controls",
      "_view_module_version": "1.5.0",
      "_view_name": "ProgressView",
      "bar_style": "success",
      "description": "",
      "description_tooltip": null,
      "layout": "IPY_MODEL_9d0364127f6b48d4aac7adfc68b21752",
      "max": 54986,
      "min": 0,
      "orientation": "horizontal",
      "style": "IPY_MODEL_65093a24b53041efb05248534b2f4e3e",
      "value": 54986
     }
    },
    "3a17919d1d854783940dbf23d7061f36": {
     "model_module": "@jupyter-widgets/controls",
     "model_name": "HTMLModel",
     "model_module_version": "1.5.0",
     "state": {
      "_dom_classes": [],
      "_model_module": "@jupyter-widgets/controls",
      "_model_module_version": "1.5.0",
      "_model_name": "HTMLModel",
      "_view_count": null,
      "_view_module": "@jupyter-widgets/controls",
      "_view_module_version": "1.5.0",
      "_view_name": "HTMLView",
      "description": "",
      "description_tooltip": null,
      "layout": "IPY_MODEL_33d480e964954516a0d3a0767204e79b",
      "placeholder": "​",
      "style": "IPY_MODEL_5eae7f34d8a744aebdeada57727b0361",
      "value": " 54986/54986 [00:00&lt;00:00, 798205.81it/s]"
     }
    },
    "89a51a19525649308a9fc3d068ba4319": {
     "model_module": "@jupyter-widgets/base",
     "model_name": "LayoutModel",
     "model_module_version": "1.2.0",
     "state": {
      "_model_module": "@jupyter-widgets/base",
      "_model_module_version": "1.2.0",
      "_model_name": "LayoutModel",
      "_view_count": null,
      "_view_module": "@jupyter-widgets/base",
      "_view_module_version": "1.2.0",
      "_view_name": "LayoutView",
      "align_content": null,
      "align_items": null,
      "align_self": null,
      "border": null,
      "bottom": null,
      "display": null,
      "flex": null,
      "flex_flow": null,
      "grid_area": null,
      "grid_auto_columns": null,
      "grid_auto_flow": null,
      "grid_auto_rows": null,
      "grid_column": null,
      "grid_gap": null,
      "grid_row": null,
      "grid_template_areas": null,
      "grid_template_columns": null,
      "grid_template_rows": null,
      "height": null,
      "justify_content": null,
      "justify_items": null,
      "left": null,
      "margin": null,
      "max_height": null,
      "max_width": null,
      "min_height": null,
      "min_width": null,
      "object_fit": null,
      "object_position": null,
      "order": null,
      "overflow": null,
      "overflow_x": null,
      "overflow_y": null,
      "padding": null,
      "right": null,
      "top": null,
      "visibility": null,
      "width": null
     }
    },
    "ceb3853559e548dc85979b470b4e6143": {
     "model_module": "@jupyter-widgets/base",
     "model_name": "LayoutModel",
     "model_module_version": "1.2.0",
     "state": {
      "_model_module": "@jupyter-widgets/base",
      "_model_module_version": "1.2.0",
      "_model_name": "LayoutModel",
      "_view_count": null,
      "_view_module": "@jupyter-widgets/base",
      "_view_module_version": "1.2.0",
      "_view_name": "LayoutView",
      "align_content": null,
      "align_items": null,
      "align_self": null,
      "border": null,
      "bottom": null,
      "display": null,
      "flex": null,
      "flex_flow": null,
      "grid_area": null,
      "grid_auto_columns": null,
      "grid_auto_flow": null,
      "grid_auto_rows": null,
      "grid_column": null,
      "grid_gap": null,
      "grid_row": null,
      "grid_template_areas": null,
      "grid_template_columns": null,
      "grid_template_rows": null,
      "height": null,
      "justify_content": null,
      "justify_items": null,
      "left": null,
      "margin": null,
      "max_height": null,
      "max_width": null,
      "min_height": null,
      "min_width": null,
      "object_fit": null,
      "object_position": null,
      "order": null,
      "overflow": null,
      "overflow_x": null,
      "overflow_y": null,
      "padding": null,
      "right": null,
      "top": null,
      "visibility": null,
      "width": null
     }
    },
    "da9d413568a54d0d8dc97f7db1fcaf16": {
     "model_module": "@jupyter-widgets/controls",
     "model_name": "DescriptionStyleModel",
     "model_module_version": "1.5.0",
     "state": {
      "_model_module": "@jupyter-widgets/controls",
      "_model_module_version": "1.5.0",
      "_model_name": "DescriptionStyleModel",
      "_view_count": null,
      "_view_module": "@jupyter-widgets/base",
      "_view_module_version": "1.2.0",
      "_view_name": "StyleView",
      "description_width": ""
     }
    },
    "9d0364127f6b48d4aac7adfc68b21752": {
     "model_module": "@jupyter-widgets/base",
     "model_name": "LayoutModel",
     "model_module_version": "1.2.0",
     "state": {
      "_model_module": "@jupyter-widgets/base",
      "_model_module_version": "1.2.0",
      "_model_name": "LayoutModel",
      "_view_count": null,
      "_view_module": "@jupyter-widgets/base",
      "_view_module_version": "1.2.0",
      "_view_name": "LayoutView",
      "align_content": null,
      "align_items": null,
      "align_self": null,
      "border": null,
      "bottom": null,
      "display": null,
      "flex": null,
      "flex_flow": null,
      "grid_area": null,
      "grid_auto_columns": null,
      "grid_auto_flow": null,
      "grid_auto_rows": null,
      "grid_column": null,
      "grid_gap": null,
      "grid_row": null,
      "grid_template_areas": null,
      "grid_template_columns": null,
      "grid_template_rows": null,
      "height": null,
      "justify_content": null,
      "justify_items": null,
      "left": null,
      "margin": null,
      "max_height": null,
      "max_width": null,
      "min_height": null,
      "min_width": null,
      "object_fit": null,
      "object_position": null,
      "order": null,
      "overflow": null,
      "overflow_x": null,
      "overflow_y": null,
      "padding": null,
      "right": null,
      "top": null,
      "visibility": null,
      "width": null
     }
    },
    "65093a24b53041efb05248534b2f4e3e": {
     "model_module": "@jupyter-widgets/controls",
     "model_name": "ProgressStyleModel",
     "model_module_version": "1.5.0",
     "state": {
      "_model_module": "@jupyter-widgets/controls",
      "_model_module_version": "1.5.0",
      "_model_name": "ProgressStyleModel",
      "_view_count": null,
      "_view_module": "@jupyter-widgets/base",
      "_view_module_version": "1.2.0",
      "_view_name": "StyleView",
      "bar_color": null,
      "description_width": ""
     }
    },
    "33d480e964954516a0d3a0767204e79b": {
     "model_module": "@jupyter-widgets/base",
     "model_name": "LayoutModel",
     "model_module_version": "1.2.0",
     "state": {
      "_model_module": "@jupyter-widgets/base",
      "_model_module_version": "1.2.0",
      "_model_name": "LayoutModel",
      "_view_count": null,
      "_view_module": "@jupyter-widgets/base",
      "_view_module_version": "1.2.0",
      "_view_name": "LayoutView",
      "align_content": null,
      "align_items": null,
      "align_self": null,
      "border": null,
      "bottom": null,
      "display": null,
      "flex": null,
      "flex_flow": null,
      "grid_area": null,
      "grid_auto_columns": null,
      "grid_auto_flow": null,
      "grid_auto_rows": null,
      "grid_column": null,
      "grid_gap": null,
      "grid_row": null,
      "grid_template_areas": null,
      "grid_template_columns": null,
      "grid_template_rows": null,
      "height": null,
      "justify_content": null,
      "justify_items": null,
      "left": null,
      "margin": null,
      "max_height": null,
      "max_width": null,
      "min_height": null,
      "min_width": null,
      "object_fit": null,
      "object_position": null,
      "order": null,
      "overflow": null,
      "overflow_x": null,
      "overflow_y": null,
      "padding": null,
      "right": null,
      "top": null,
      "visibility": null,
      "width": null
     }
    },
    "5eae7f34d8a744aebdeada57727b0361": {
     "model_module": "@jupyter-widgets/controls",
     "model_name": "DescriptionStyleModel",
     "model_module_version": "1.5.0",
     "state": {
      "_model_module": "@jupyter-widgets/controls",
      "_model_module_version": "1.5.0",
      "_model_name": "DescriptionStyleModel",
      "_view_count": null,
      "_view_module": "@jupyter-widgets/base",
      "_view_module_version": "1.2.0",
      "_view_name": "StyleView",
      "description_width": ""
     }
    },
    "43e5226f9dad4f2c9c9ded3f5bb8e512": {
     "model_module": "@jupyter-widgets/controls",
     "model_name": "HBoxModel",
     "model_module_version": "1.5.0",
     "state": {
      "_dom_classes": [],
      "_model_module": "@jupyter-widgets/controls",
      "_model_module_version": "1.5.0",
      "_model_name": "HBoxModel",
      "_view_count": null,
      "_view_module": "@jupyter-widgets/controls",
      "_view_module_version": "1.5.0",
      "_view_name": "HBoxView",
      "box_style": "",
      "children": [
       "IPY_MODEL_dbac23e3e3264da9aaf5c750f3280727",
       "IPY_MODEL_511b524274ad41eb8c4eabcb0eec91c9",
       "IPY_MODEL_d08459cdd3e64f0a9d9fd36e2d4b5125"
      ],
      "layout": "IPY_MODEL_1d11f7fb05d3495d947aebd4a69a7549"
     }
    },
    "dbac23e3e3264da9aaf5c750f3280727": {
     "model_module": "@jupyter-widgets/controls",
     "model_name": "HTMLModel",
     "model_module_version": "1.5.0",
     "state": {
      "_dom_classes": [],
      "_model_module": "@jupyter-widgets/controls",
      "_model_module_version": "1.5.0",
      "_model_name": "HTMLModel",
      "_view_count": null,
      "_view_module": "@jupyter-widgets/controls",
      "_view_module_version": "1.5.0",
      "_view_name": "HTMLView",
      "description": "",
      "description_tooltip": null,
      "layout": "IPY_MODEL_783985e729694b2580ec44021bdc619f",
      "placeholder": "​",
      "style": "IPY_MODEL_d9e0dbfd44084743b76ae034a69b44fe",
      "value": " 97%"
     }
    },
    "511b524274ad41eb8c4eabcb0eec91c9": {
     "model_module": "@jupyter-widgets/controls",
     "model_name": "FloatProgressModel",
     "model_module_version": "1.5.0",
     "state": {
      "_dom_classes": [],
      "_model_module": "@jupyter-widgets/controls",
      "_model_module_version": "1.5.0",
      "_model_name": "FloatProgressModel",
      "_view_count": null,
      "_view_module": "@jupyter-widgets/controls",
      "_view_module_version": "1.5.0",
      "_view_name": "ProgressView",
      "bar_style": "danger",
      "description": "",
      "description_tooltip": null,
      "layout": "IPY_MODEL_feacff718326402bacd87fe2fdc82df5",
      "max": 69560,
      "min": 0,
      "orientation": "horizontal",
      "style": "IPY_MODEL_dd31c960ae324a45b361868c8806846a",
      "value": 67499
     }
    },
    "d08459cdd3e64f0a9d9fd36e2d4b5125": {
     "model_module": "@jupyter-widgets/controls",
     "model_name": "HTMLModel",
     "model_module_version": "1.5.0",
     "state": {
      "_dom_classes": [],
      "_model_module": "@jupyter-widgets/controls",
      "_model_module_version": "1.5.0",
      "_model_name": "HTMLModel",
      "_view_count": null,
      "_view_module": "@jupyter-widgets/controls",
      "_view_module_version": "1.5.0",
      "_view_name": "HTMLView",
      "description": "",
      "description_tooltip": null,
      "layout": "IPY_MODEL_869c946063df4a03abdd46381444bc1c",
      "placeholder": "​",
      "style": "IPY_MODEL_9a22bc23493e45ff845322f4319de970",
      "value": " 67499/69560 [2:53:50&lt;05:22,  6.39it/s, epoch=37, loss=2.99, val_loss=3.1]"
     }
    },
    "1d11f7fb05d3495d947aebd4a69a7549": {
     "model_module": "@jupyter-widgets/base",
     "model_name": "LayoutModel",
     "model_module_version": "1.2.0",
     "state": {
      "_model_module": "@jupyter-widgets/base",
      "_model_module_version": "1.2.0",
      "_model_name": "LayoutModel",
      "_view_count": null,
      "_view_module": "@jupyter-widgets/base",
      "_view_module_version": "1.2.0",
      "_view_name": "LayoutView",
      "align_content": null,
      "align_items": null,
      "align_self": null,
      "border": null,
      "bottom": null,
      "display": null,
      "flex": null,
      "flex_flow": null,
      "grid_area": null,
      "grid_auto_columns": null,
      "grid_auto_flow": null,
      "grid_auto_rows": null,
      "grid_column": null,
      "grid_gap": null,
      "grid_row": null,
      "grid_template_areas": null,
      "grid_template_columns": null,
      "grid_template_rows": null,
      "height": null,
      "justify_content": null,
      "justify_items": null,
      "left": null,
      "margin": null,
      "max_height": null,
      "max_width": null,
      "min_height": null,
      "min_width": null,
      "object_fit": null,
      "object_position": null,
      "order": null,
      "overflow": null,
      "overflow_x": null,
      "overflow_y": null,
      "padding": null,
      "right": null,
      "top": null,
      "visibility": null,
      "width": null
     }
    },
    "783985e729694b2580ec44021bdc619f": {
     "model_module": "@jupyter-widgets/base",
     "model_name": "LayoutModel",
     "model_module_version": "1.2.0",
     "state": {
      "_model_module": "@jupyter-widgets/base",
      "_model_module_version": "1.2.0",
      "_model_name": "LayoutModel",
      "_view_count": null,
      "_view_module": "@jupyter-widgets/base",
      "_view_module_version": "1.2.0",
      "_view_name": "LayoutView",
      "align_content": null,
      "align_items": null,
      "align_self": null,
      "border": null,
      "bottom": null,
      "display": null,
      "flex": null,
      "flex_flow": null,
      "grid_area": null,
      "grid_auto_columns": null,
      "grid_auto_flow": null,
      "grid_auto_rows": null,
      "grid_column": null,
      "grid_gap": null,
      "grid_row": null,
      "grid_template_areas": null,
      "grid_template_columns": null,
      "grid_template_rows": null,
      "height": null,
      "justify_content": null,
      "justify_items": null,
      "left": null,
      "margin": null,
      "max_height": null,
      "max_width": null,
      "min_height": null,
      "min_width": null,
      "object_fit": null,
      "object_position": null,
      "order": null,
      "overflow": null,
      "overflow_x": null,
      "overflow_y": null,
      "padding": null,
      "right": null,
      "top": null,
      "visibility": null,
      "width": null
     }
    },
    "d9e0dbfd44084743b76ae034a69b44fe": {
     "model_module": "@jupyter-widgets/controls",
     "model_name": "DescriptionStyleModel",
     "model_module_version": "1.5.0",
     "state": {
      "_model_module": "@jupyter-widgets/controls",
      "_model_module_version": "1.5.0",
      "_model_name": "DescriptionStyleModel",
      "_view_count": null,
      "_view_module": "@jupyter-widgets/base",
      "_view_module_version": "1.2.0",
      "_view_name": "StyleView",
      "description_width": ""
     }
    },
    "feacff718326402bacd87fe2fdc82df5": {
     "model_module": "@jupyter-widgets/base",
     "model_name": "LayoutModel",
     "model_module_version": "1.2.0",
     "state": {
      "_model_module": "@jupyter-widgets/base",
      "_model_module_version": "1.2.0",
      "_model_name": "LayoutModel",
      "_view_count": null,
      "_view_module": "@jupyter-widgets/base",
      "_view_module_version": "1.2.0",
      "_view_name": "LayoutView",
      "align_content": null,
      "align_items": null,
      "align_self": null,
      "border": null,
      "bottom": null,
      "display": null,
      "flex": null,
      "flex_flow": null,
      "grid_area": null,
      "grid_auto_columns": null,
      "grid_auto_flow": null,
      "grid_auto_rows": null,
      "grid_column": null,
      "grid_gap": null,
      "grid_row": null,
      "grid_template_areas": null,
      "grid_template_columns": null,
      "grid_template_rows": null,
      "height": null,
      "justify_content": null,
      "justify_items": null,
      "left": null,
      "margin": null,
      "max_height": null,
      "max_width": null,
      "min_height": null,
      "min_width": null,
      "object_fit": null,
      "object_position": null,
      "order": null,
      "overflow": null,
      "overflow_x": null,
      "overflow_y": null,
      "padding": null,
      "right": null,
      "top": null,
      "visibility": null,
      "width": null
     }
    },
    "dd31c960ae324a45b361868c8806846a": {
     "model_module": "@jupyter-widgets/controls",
     "model_name": "ProgressStyleModel",
     "model_module_version": "1.5.0",
     "state": {
      "_model_module": "@jupyter-widgets/controls",
      "_model_module_version": "1.5.0",
      "_model_name": "ProgressStyleModel",
      "_view_count": null,
      "_view_module": "@jupyter-widgets/base",
      "_view_module_version": "1.2.0",
      "_view_name": "StyleView",
      "bar_color": null,
      "description_width": ""
     }
    },
    "869c946063df4a03abdd46381444bc1c": {
     "model_module": "@jupyter-widgets/base",
     "model_name": "LayoutModel",
     "model_module_version": "1.2.0",
     "state": {
      "_model_module": "@jupyter-widgets/base",
      "_model_module_version": "1.2.0",
      "_model_name": "LayoutModel",
      "_view_count": null,
      "_view_module": "@jupyter-widgets/base",
      "_view_module_version": "1.2.0",
      "_view_name": "LayoutView",
      "align_content": null,
      "align_items": null,
      "align_self": null,
      "border": null,
      "bottom": null,
      "display": null,
      "flex": null,
      "flex_flow": null,
      "grid_area": null,
      "grid_auto_columns": null,
      "grid_auto_flow": null,
      "grid_auto_rows": null,
      "grid_column": null,
      "grid_gap": null,
      "grid_row": null,
      "grid_template_areas": null,
      "grid_template_columns": null,
      "grid_template_rows": null,
      "height": null,
      "justify_content": null,
      "justify_items": null,
      "left": null,
      "margin": null,
      "max_height": null,
      "max_width": null,
      "min_height": null,
      "min_width": null,
      "object_fit": null,
      "object_position": null,
      "order": null,
      "overflow": null,
      "overflow_x": null,
      "overflow_y": null,
      "padding": null,
      "right": null,
      "top": null,
      "visibility": null,
      "width": null
     }
    },
    "9a22bc23493e45ff845322f4319de970": {
     "model_module": "@jupyter-widgets/controls",
     "model_name": "DescriptionStyleModel",
     "model_module_version": "1.5.0",
     "state": {
      "_model_module": "@jupyter-widgets/controls",
      "_model_module_version": "1.5.0",
      "_model_name": "DescriptionStyleModel",
      "_view_count": null,
      "_view_module": "@jupyter-widgets/base",
      "_view_module_version": "1.2.0",
      "_view_name": "StyleView",
      "description_width": ""
     }
    }
   }
  }
 },
 "nbformat": 4,
 "nbformat_minor": 5
}
